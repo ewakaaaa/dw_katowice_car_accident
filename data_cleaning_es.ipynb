{
 "cells": [
  {
   "cell_type": "code",
   "execution_count": 1,
   "metadata": {},
   "outputs": [],
   "source": [
    "import pandas as pd\n",
    "import numpy as np"
   ]
  },
  {
   "cell_type": "markdown",
   "metadata": {},
   "source": [
    "### Wczytanie danych"
   ]
  },
  {
   "cell_type": "code",
   "execution_count": 4,
   "metadata": {},
   "outputs": [],
   "source": [
    "data = pd.read_csv('data/DataWorkshop dane do projektu.csv')"
   ]
  },
  {
   "cell_type": "code",
   "execution_count": 5,
   "metadata": {},
   "outputs": [
    {
     "output_type": "execute_result",
     "data": {
      "text/plain": "       Data zdarzenia   Godzina      GPS x      GPS y    Miejscowość    Ulica  \\\n46120      2016-11-20  23:00:00  18*40'322  50*15'321        GLIWICE      NaN   \n184043     2019-04-05  14:01:00  18*58'056  50*17'246        CHORZÓW  PARKOWA   \n148369     2018-09-06  12:55:00  19*02'598  49*49'434  BIELSKO-BIAŁA  MOSTOWA   \n\n       Numer domu Numer drogi KM HM (Pikietaż)                Obszar  \\\n46120         NaN          A4            312,3  Obszar niezabudowany   \n184043         20      P9423S              NaN     Obszar zabudowany   \n148369          5          I2              NaN     Obszar zabudowany   \n\n            Skrzyżowanie Geometria drogi Charakterystyka miejsca zdarzenia  \\\n46120                NaN  Odcinek prosty                           Jezdnia   \n184043  O ruchu okrężnym             NaN                           Jezdnia   \n148369               NaN  Odcinek prosty                Parking, plac, MOP   \n\n                   Oświetlenie        Warunki atmosferyczne  \\\n46120   Noc - droga oświetlona  Dobre warunki atmosferyczne   \n184043         Światło dzienne  Dobre warunki atmosferyczne   \n148369         Światło dzienne  Dobre warunki atmosferyczne   \n\n                           Rodzaj zdarzenia                Wina  \\\n46120        Najechanie na barierę ochronną  z winy kierującego   \n184043             Zderzenie pojazdów tylne  z winy kierującego   \n148369  Najechanie na pojazd unieruchomiony  z winy kierującego   \n\n                        Rodzaj drogi Nawierzchnia drogi Stan nawierzchni  \\\n46120                     Autostrada             Twarda            Sucha   \n184043               Jednokierunkowa             Twarda            Sucha   \n148369  Jednojezdniowa dwukierunkowa             Twarda            Sucha   \n\n       Sygnalizacja świetlna Oznakowanie poziome  Liczba pasów w zdarzeniu  \\\n46120                   Brak                Jest                       NaN   \n184043                  Brak                Jest                       2.0   \n148369                  Brak              Nie ma                       2.0   \n\n                             Zachowanie kierującego Zachowanie pieszego  \\\n46120   Niedostosowanie prędkości do warunków ruchu                 NaN   \n184043  Niezachowanie bezp. odleg. między pojazdami                 NaN   \n148369                       Nieprawidłowe omijanie                 NaN   \n\n       Inne przyczyny  Liczba rannych w zdarzeniu  \\\n46120             NaN                           0   \n184043            NaN                           0   \n148369            NaN                           0   \n\n        Liczba zabitych w zdarzeniu  Liczba kolizji  Liczba wypadków  \n46120                             0               1                0  \n184043                            0               1                0  \n148369                            0               1                0  ",
      "text/html": "<div>\n<style scoped>\n    .dataframe tbody tr th:only-of-type {\n        vertical-align: middle;\n    }\n\n    .dataframe tbody tr th {\n        vertical-align: top;\n    }\n\n    .dataframe thead th {\n        text-align: right;\n    }\n</style>\n<table border=\"1\" class=\"dataframe\">\n  <thead>\n    <tr style=\"text-align: right;\">\n      <th></th>\n      <th>Data zdarzenia</th>\n      <th>Godzina</th>\n      <th>GPS x</th>\n      <th>GPS y</th>\n      <th>Miejscowość</th>\n      <th>Ulica</th>\n      <th>Numer domu</th>\n      <th>Numer drogi</th>\n      <th>KM HM (Pikietaż)</th>\n      <th>Obszar</th>\n      <th>Skrzyżowanie</th>\n      <th>Geometria drogi</th>\n      <th>Charakterystyka miejsca zdarzenia</th>\n      <th>Oświetlenie</th>\n      <th>Warunki atmosferyczne</th>\n      <th>Rodzaj zdarzenia</th>\n      <th>Wina</th>\n      <th>Rodzaj drogi</th>\n      <th>Nawierzchnia drogi</th>\n      <th>Stan nawierzchni</th>\n      <th>Sygnalizacja świetlna</th>\n      <th>Oznakowanie poziome</th>\n      <th>Liczba pasów w zdarzeniu</th>\n      <th>Zachowanie kierującego</th>\n      <th>Zachowanie pieszego</th>\n      <th>Inne przyczyny</th>\n      <th>Liczba rannych w zdarzeniu</th>\n      <th>Liczba zabitych w zdarzeniu</th>\n      <th>Liczba kolizji</th>\n      <th>Liczba wypadków</th>\n    </tr>\n  </thead>\n  <tbody>\n    <tr>\n      <td>46120</td>\n      <td>2016-11-20</td>\n      <td>23:00:00</td>\n      <td>18*40'322</td>\n      <td>50*15'321</td>\n      <td>GLIWICE</td>\n      <td>NaN</td>\n      <td>NaN</td>\n      <td>A4</td>\n      <td>312,3</td>\n      <td>Obszar niezabudowany</td>\n      <td>NaN</td>\n      <td>Odcinek prosty</td>\n      <td>Jezdnia</td>\n      <td>Noc - droga oświetlona</td>\n      <td>Dobre warunki atmosferyczne</td>\n      <td>Najechanie na barierę ochronną</td>\n      <td>z winy kierującego</td>\n      <td>Autostrada</td>\n      <td>Twarda</td>\n      <td>Sucha</td>\n      <td>Brak</td>\n      <td>Jest</td>\n      <td>NaN</td>\n      <td>Niedostosowanie prędkości do warunków ruchu</td>\n      <td>NaN</td>\n      <td>NaN</td>\n      <td>0</td>\n      <td>0</td>\n      <td>1</td>\n      <td>0</td>\n    </tr>\n    <tr>\n      <td>184043</td>\n      <td>2019-04-05</td>\n      <td>14:01:00</td>\n      <td>18*58'056</td>\n      <td>50*17'246</td>\n      <td>CHORZÓW</td>\n      <td>PARKOWA</td>\n      <td>20</td>\n      <td>P9423S</td>\n      <td>NaN</td>\n      <td>Obszar zabudowany</td>\n      <td>O ruchu okrężnym</td>\n      <td>NaN</td>\n      <td>Jezdnia</td>\n      <td>Światło dzienne</td>\n      <td>Dobre warunki atmosferyczne</td>\n      <td>Zderzenie pojazdów tylne</td>\n      <td>z winy kierującego</td>\n      <td>Jednokierunkowa</td>\n      <td>Twarda</td>\n      <td>Sucha</td>\n      <td>Brak</td>\n      <td>Jest</td>\n      <td>2.0</td>\n      <td>Niezachowanie bezp. odleg. między pojazdami</td>\n      <td>NaN</td>\n      <td>NaN</td>\n      <td>0</td>\n      <td>0</td>\n      <td>1</td>\n      <td>0</td>\n    </tr>\n    <tr>\n      <td>148369</td>\n      <td>2018-09-06</td>\n      <td>12:55:00</td>\n      <td>19*02'598</td>\n      <td>49*49'434</td>\n      <td>BIELSKO-BIAŁA</td>\n      <td>MOSTOWA</td>\n      <td>5</td>\n      <td>I2</td>\n      <td>NaN</td>\n      <td>Obszar zabudowany</td>\n      <td>NaN</td>\n      <td>Odcinek prosty</td>\n      <td>Parking, plac, MOP</td>\n      <td>Światło dzienne</td>\n      <td>Dobre warunki atmosferyczne</td>\n      <td>Najechanie na pojazd unieruchomiony</td>\n      <td>z winy kierującego</td>\n      <td>Jednojezdniowa dwukierunkowa</td>\n      <td>Twarda</td>\n      <td>Sucha</td>\n      <td>Brak</td>\n      <td>Nie ma</td>\n      <td>2.0</td>\n      <td>Nieprawidłowe omijanie</td>\n      <td>NaN</td>\n      <td>NaN</td>\n      <td>0</td>\n      <td>0</td>\n      <td>1</td>\n      <td>0</td>\n    </tr>\n  </tbody>\n</table>\n</div>"
     },
     "metadata": {},
     "execution_count": 5
    }
   ],
   "source": [
    "pd.set_option('display.max_columns', None)\n",
    "data.sample(3)"
   ]
  },
  {
   "cell_type": "code",
   "execution_count": 6,
   "metadata": {
    "tags": []
   },
   "outputs": [
    {
     "output_type": "stream",
     "name": "stdout",
     "text": "<class 'pandas.core.frame.DataFrame'>\nRangeIndex: 229929 entries, 0 to 229928\nData columns (total 30 columns):\nData zdarzenia                       229929 non-null object\nGodzina                              229929 non-null object\nGPS x                                229929 non-null object\nGPS y                                229929 non-null object\nMiejscowość                          229929 non-null object\nUlica                                209201 non-null object\nNumer domu                           136045 non-null object\nNumer drogi                          229929 non-null object\nKM HM (Pikietaż)                     35041 non-null object\nObszar                               229928 non-null object\nSkrzyżowanie                         63150 non-null object\nGeometria drogi                      163921 non-null object\nCharakterystyka miejsca zdarzenia    229927 non-null object\nOświetlenie                          229929 non-null object\nWarunki atmosferyczne                229928 non-null object\nRodzaj zdarzenia                     229929 non-null object\nWina                                 229929 non-null object\nRodzaj drogi                         229928 non-null object\nNawierzchnia drogi                   229928 non-null object\nStan nawierzchni                     229928 non-null object\nSygnalizacja świetlna                229929 non-null object\nOznakowanie poziome                  229927 non-null object\nLiczba pasów w zdarzeniu             141775 non-null float64\nZachowanie kierującego               202028 non-null object\nZachowanie pieszego                  2485 non-null object\nInne przyczyny                       26203 non-null object\nLiczba rannych w zdarzeniu           229929 non-null int64\nLiczba zabitych w zdarzeniu          229929 non-null int64\nLiczba kolizji                       229929 non-null int64\nLiczba wypadków                      229929 non-null int64\ndtypes: float64(1), int64(4), object(25)\nmemory usage: 52.6+ MB\n"
    }
   ],
   "source": [
    "data.info()"
   ]
  },
  {
   "cell_type": "markdown",
   "metadata": {},
   "source": [
    "### Functions"
   ]
  },
  {
   "cell_type": "code",
   "execution_count": 7,
   "metadata": {},
   "outputs": [],
   "source": [
    "#string conversion from Ani: \n",
    "def simplify(a):        \n",
    "    a = a.replace('\\'','')                   # usuń znaki '\n",
    "    a = a.replace('\\n','')                   # usuń znaki nowej linii\n",
    "    a = a.replace(';','')                    # usuń średniki\n",
    "    a = a.replace(',','')                    # usuń przecinki\n",
    "    a = a.replace('.',' ')                   # zamień kropki na spacje (ze względu na dziwny zapis w adresach)\n",
    "    a = a.replace('  ',' ')                  # usuń podwójne spacje\n",
    "    a = a.lower()                            # zamień wielkie litery na małe\n",
    "    a = a.replace('(od 11 2015)','')         # usuń ciąg \"(od 11.2015)\"\n",
    "    a =' '.join(unique_list(a.split()))       # usuń zduplikowane słowa\n",
    "    return(a)\n",
    "\n",
    "def simplify_cell(string):\n",
    "    return(simplify(str(string)))\n",
    "\n",
    "def unique_list(l):\n",
    "    ulist = []\n",
    "    [ulist.append(x) for x in l if x not in ulist]\n",
    "    return ulist   \n",
    "\n",
    "def check_missing(df):\n",
    "    for column in df.columns:\n",
    "        missing = column, df[column].isnull().sum()\n",
    "        if missing[1] == 0: continue\n",
    "        print(missing)\n",
    "        \n",
    "def study_column(nazwa):\n",
    "    print(df[nazwa].value_counts(normalize = True))\n",
    "    print('wartości unikalne:')\n",
    "    print(simplify_cell(np.array2string(df[nazwa].unique())))\n",
    "\n",
    "#change words \n",
    "def make_one_word (i,a):\n",
    "    b = a.replace(' ','_') \n",
    "    df[i] = df[i].str.replace(a,b, regex=True)\n",
    "    \n",
    "def word_or_word (x,word1,word2):\n",
    "    if word1 in str(x):\n",
    "        return word1 \n",
    "    elif word2 in str(x):\n",
    "        return word2 \n",
    "    else: \n",
    "        return '-1' "
   ]
  },
  {
   "cell_type": "code",
   "execution_count": 8,
   "metadata": {},
   "outputs": [],
   "source": [
    "#Clone data\n",
    "df = data.copy()"
   ]
  },
  {
   "cell_type": "markdown",
   "metadata": {},
   "source": [
    "### Data gaps"
   ]
  },
  {
   "cell_type": "code",
   "execution_count": 9,
   "metadata": {
    "tags": []
   },
   "outputs": [
    {
     "output_type": "stream",
     "name": "stdout",
     "text": "('Ulica', 20728)\n('Numer domu', 93884)\n('KM HM (Pikietaż)', 194888)\n('Obszar', 1)\n('Skrzyżowanie', 166779)\n('Geometria drogi', 66008)\n('Charakterystyka miejsca zdarzenia', 2)\n('Warunki atmosferyczne', 1)\n('Rodzaj drogi', 1)\n('Nawierzchnia drogi', 1)\n('Stan nawierzchni', 1)\n('Oznakowanie poziome', 2)\n('Liczba pasów w zdarzeniu', 88154)\n('Zachowanie kierującego', 27901)\n('Zachowanie pieszego', 227444)\n('Inne przyczyny', 203726)\n"
    }
   ],
   "source": [
    "check_missing(df)"
   ]
  },
  {
   "cell_type": "code",
   "execution_count": 10,
   "metadata": {},
   "outputs": [],
   "source": [
    "df = df.fillna(-1) "
   ]
  },
  {
   "cell_type": "code",
   "execution_count": 11,
   "metadata": {},
   "outputs": [],
   "source": [
    "#GPS\n",
    "# from Krzysztofa\n",
    "import re\n",
    "# https://stackoverflow.com/questions/33997361\n",
    "def dms2dd(coord):\n",
    "    \"\"\" GPS HH.MM.SS.S to DD (Decimal Degrees) conversion \"\"\"\n",
    "    c = re.findall(r\"\\w+\", coord)\n",
    "    degrees = float(c[0])\n",
    "    minutes = float(c[1])\n",
    "    if len(c) > 2:\n",
    "        seconds = float(c[2])/10   \n",
    "    else:\n",
    "        seconds = 0\n",
    "    dd = (float(degrees) + (minutes)/60 + float(seconds)/(60*60))\n",
    "    return dd\n",
    "df['gps_x'] = df['GPS x'].apply(lambda x : dms2dd(x))\n",
    "df['gps_y'] = df['GPS y'].apply(lambda x : dms2dd(x))\n",
    "\n",
    "del df['GPS x']\n",
    "del df['GPS y']"
   ]
  },
  {
   "cell_type": "code",
   "execution_count": 17,
   "metadata": {},
   "outputs": [
    {
     "output_type": "execute_result",
     "data": {
      "text/plain": "  Data zdarzenia   Godzina       Miejscowość                Ulica Numer domu  \\\n0     2016-01-01  05:15:00           GLIWICE             TOSZECKA         -1   \n1     2016-01-01  00:05:00  DĄBROWA GÓRNICZA         SIENKIEWICZA         -1   \n2     2016-01-01  18:30:00   TARNOWSKIE GÓRY    KS.IGNACEGO SIWCA         4A   \n3     2016-01-01  15:10:00   TARNOWSKIE GÓRY  JÓZEFA PIŁSUDSKIEGO          6   \n4     2016-01-01  17:45:00         OŻAROWICE             DWORCOWA         16   \n\n  Numer drogi KM HM (Pikietaż)                Obszar        Skrzyżowanie  \\\n0         901             61,6  Obszar niezabudowany                  -1   \n1   G200 030S               -1     Obszar zabudowany  Z drogą z pierwsz.   \n2      GMINNA               -1     Obszar zabudowany                  -1   \n3      P3276S               -1     Obszar zabudowany                  -1   \n4      P3203S               -1     Obszar zabudowany                  -1   \n\n  Geometria drogi Charakterystyka miejsca zdarzenia  \\\n0  Odcinek prosty                           Jezdnia   \n1              -1                           Jezdnia   \n2     Zakręt, łuk                           Jezdnia   \n3  Odcinek prosty                           Jezdnia   \n4  Odcinek prosty                           Jezdnia   \n\n                 Oświetlenie        Warunki atmosferyczne  \\\n0  Noc - droga nieoświetlona  Dobre warunki atmosferyczne   \n1     Noc - droga oświetlona  Dobre warunki atmosferyczne   \n2     Noc - droga oświetlona  Dobre warunki atmosferyczne   \n3            Światło dzienne                    Pochmurno   \n4                Zmrok, świt  Dobre warunki atmosferyczne   \n\n                      Rodzaj zdarzenia                Wina  \\\n0                Najechanie na zwierzę   z innych przyczyn   \n1  Najechanie na pojazd unieruchomiony  z winy kierującego   \n2  Najechanie na pojazd unieruchomiony  z winy kierującego   \n3             Zderzenie pojazdów tylne  z winy kierującego   \n4                Najechanie na zwierzę   z innych przyczyn   \n\n                   Rodzaj drogi Nawierzchnia drogi Stan nawierzchni  \\\n0  Jednojezdniowa dwukierunkowa             Twarda            Sucha   \n1  Jednojezdniowa dwukierunkowa             Twarda            Sucha   \n2  Jednojezdniowa dwukierunkowa             Twarda            Sucha   \n3  Jednojezdniowa dwukierunkowa             Twarda            Sucha   \n4  Jednojezdniowa dwukierunkowa             Twarda            Sucha   \n\n  Sygnalizacja świetlna Oznakowanie poziome   Zachowanie kierującego  \\\n0                  Brak                Jest                       -1   \n1                  Brak                Jest   Nieprawidłowe: cofanie   \n2                  Brak              Nie ma  Nieprawidłowe: omijanie   \n3                  Brak                Jest  Nieprawidłowe: omijanie   \n4                  Brak              Nie ma                       -1   \n\n  Zachowanie pieszego                Inne przyczyny      gps_x      gps_y  \\\n0                  -1  Obiekty, zwierzęta na drodze  18.635806  50.369722   \n1                  -1                            -1  19.180833  50.323083   \n2                  -1                            -1  18.877639  50.445083   \n3                  -1                            -1  18.860583  50.444667   \n4                  -1  Obiekty, zwierzęta na drodze  19.047556  50.466806   \n\n   liczba_pasów_w_zdarzeniu  liczba_rannych_w_zdarzeniu  \\\n0                       2.0                         0.0   \n1                      -1.0                         0.0   \n2                       2.0                         0.0   \n3                       2.0                         0.0   \n4                       2.0                         0.0   \n\n   liczba_zabitych_w_zdarzeniu  liczba_kolizji  liczba_wypadków  \n0                          0.0             1.0              0.0  \n1                          0.0             1.0              0.0  \n2                          0.0             1.0              0.0  \n3                          0.0             1.0              0.0  \n4                          0.0             1.0              0.0  ",
      "text/html": "<div>\n<style scoped>\n    .dataframe tbody tr th:only-of-type {\n        vertical-align: middle;\n    }\n\n    .dataframe tbody tr th {\n        vertical-align: top;\n    }\n\n    .dataframe thead th {\n        text-align: right;\n    }\n</style>\n<table border=\"1\" class=\"dataframe\">\n  <thead>\n    <tr style=\"text-align: right;\">\n      <th></th>\n      <th>Data zdarzenia</th>\n      <th>Godzina</th>\n      <th>Miejscowość</th>\n      <th>Ulica</th>\n      <th>Numer domu</th>\n      <th>Numer drogi</th>\n      <th>KM HM (Pikietaż)</th>\n      <th>Obszar</th>\n      <th>Skrzyżowanie</th>\n      <th>Geometria drogi</th>\n      <th>Charakterystyka miejsca zdarzenia</th>\n      <th>Oświetlenie</th>\n      <th>Warunki atmosferyczne</th>\n      <th>Rodzaj zdarzenia</th>\n      <th>Wina</th>\n      <th>Rodzaj drogi</th>\n      <th>Nawierzchnia drogi</th>\n      <th>Stan nawierzchni</th>\n      <th>Sygnalizacja świetlna</th>\n      <th>Oznakowanie poziome</th>\n      <th>Zachowanie kierującego</th>\n      <th>Zachowanie pieszego</th>\n      <th>Inne przyczyny</th>\n      <th>gps_x</th>\n      <th>gps_y</th>\n      <th>liczba_pasów_w_zdarzeniu</th>\n      <th>liczba_rannych_w_zdarzeniu</th>\n      <th>liczba_zabitych_w_zdarzeniu</th>\n      <th>liczba_kolizji</th>\n      <th>liczba_wypadków</th>\n    </tr>\n  </thead>\n  <tbody>\n    <tr>\n      <td>0</td>\n      <td>2016-01-01</td>\n      <td>05:15:00</td>\n      <td>GLIWICE</td>\n      <td>TOSZECKA</td>\n      <td>-1</td>\n      <td>901</td>\n      <td>61,6</td>\n      <td>Obszar niezabudowany</td>\n      <td>-1</td>\n      <td>Odcinek prosty</td>\n      <td>Jezdnia</td>\n      <td>Noc - droga nieoświetlona</td>\n      <td>Dobre warunki atmosferyczne</td>\n      <td>Najechanie na zwierzę</td>\n      <td>z innych przyczyn</td>\n      <td>Jednojezdniowa dwukierunkowa</td>\n      <td>Twarda</td>\n      <td>Sucha</td>\n      <td>Brak</td>\n      <td>Jest</td>\n      <td>-1</td>\n      <td>-1</td>\n      <td>Obiekty, zwierzęta na drodze</td>\n      <td>18.635806</td>\n      <td>50.369722</td>\n      <td>2.0</td>\n      <td>0.0</td>\n      <td>0.0</td>\n      <td>1.0</td>\n      <td>0.0</td>\n    </tr>\n    <tr>\n      <td>1</td>\n      <td>2016-01-01</td>\n      <td>00:05:00</td>\n      <td>DĄBROWA GÓRNICZA</td>\n      <td>SIENKIEWICZA</td>\n      <td>-1</td>\n      <td>G200 030S</td>\n      <td>-1</td>\n      <td>Obszar zabudowany</td>\n      <td>Z drogą z pierwsz.</td>\n      <td>-1</td>\n      <td>Jezdnia</td>\n      <td>Noc - droga oświetlona</td>\n      <td>Dobre warunki atmosferyczne</td>\n      <td>Najechanie na pojazd unieruchomiony</td>\n      <td>z winy kierującego</td>\n      <td>Jednojezdniowa dwukierunkowa</td>\n      <td>Twarda</td>\n      <td>Sucha</td>\n      <td>Brak</td>\n      <td>Jest</td>\n      <td>Nieprawidłowe: cofanie</td>\n      <td>-1</td>\n      <td>-1</td>\n      <td>19.180833</td>\n      <td>50.323083</td>\n      <td>-1.0</td>\n      <td>0.0</td>\n      <td>0.0</td>\n      <td>1.0</td>\n      <td>0.0</td>\n    </tr>\n    <tr>\n      <td>2</td>\n      <td>2016-01-01</td>\n      <td>18:30:00</td>\n      <td>TARNOWSKIE GÓRY</td>\n      <td>KS.IGNACEGO SIWCA</td>\n      <td>4A</td>\n      <td>GMINNA</td>\n      <td>-1</td>\n      <td>Obszar zabudowany</td>\n      <td>-1</td>\n      <td>Zakręt, łuk</td>\n      <td>Jezdnia</td>\n      <td>Noc - droga oświetlona</td>\n      <td>Dobre warunki atmosferyczne</td>\n      <td>Najechanie na pojazd unieruchomiony</td>\n      <td>z winy kierującego</td>\n      <td>Jednojezdniowa dwukierunkowa</td>\n      <td>Twarda</td>\n      <td>Sucha</td>\n      <td>Brak</td>\n      <td>Nie ma</td>\n      <td>Nieprawidłowe: omijanie</td>\n      <td>-1</td>\n      <td>-1</td>\n      <td>18.877639</td>\n      <td>50.445083</td>\n      <td>2.0</td>\n      <td>0.0</td>\n      <td>0.0</td>\n      <td>1.0</td>\n      <td>0.0</td>\n    </tr>\n    <tr>\n      <td>3</td>\n      <td>2016-01-01</td>\n      <td>15:10:00</td>\n      <td>TARNOWSKIE GÓRY</td>\n      <td>JÓZEFA PIŁSUDSKIEGO</td>\n      <td>6</td>\n      <td>P3276S</td>\n      <td>-1</td>\n      <td>Obszar zabudowany</td>\n      <td>-1</td>\n      <td>Odcinek prosty</td>\n      <td>Jezdnia</td>\n      <td>Światło dzienne</td>\n      <td>Pochmurno</td>\n      <td>Zderzenie pojazdów tylne</td>\n      <td>z winy kierującego</td>\n      <td>Jednojezdniowa dwukierunkowa</td>\n      <td>Twarda</td>\n      <td>Sucha</td>\n      <td>Brak</td>\n      <td>Jest</td>\n      <td>Nieprawidłowe: omijanie</td>\n      <td>-1</td>\n      <td>-1</td>\n      <td>18.860583</td>\n      <td>50.444667</td>\n      <td>2.0</td>\n      <td>0.0</td>\n      <td>0.0</td>\n      <td>1.0</td>\n      <td>0.0</td>\n    </tr>\n    <tr>\n      <td>4</td>\n      <td>2016-01-01</td>\n      <td>17:45:00</td>\n      <td>OŻAROWICE</td>\n      <td>DWORCOWA</td>\n      <td>16</td>\n      <td>P3203S</td>\n      <td>-1</td>\n      <td>Obszar zabudowany</td>\n      <td>-1</td>\n      <td>Odcinek prosty</td>\n      <td>Jezdnia</td>\n      <td>Zmrok, świt</td>\n      <td>Dobre warunki atmosferyczne</td>\n      <td>Najechanie na zwierzę</td>\n      <td>z innych przyczyn</td>\n      <td>Jednojezdniowa dwukierunkowa</td>\n      <td>Twarda</td>\n      <td>Sucha</td>\n      <td>Brak</td>\n      <td>Nie ma</td>\n      <td>-1</td>\n      <td>-1</td>\n      <td>Obiekty, zwierzęta na drodze</td>\n      <td>19.047556</td>\n      <td>50.466806</td>\n      <td>2.0</td>\n      <td>0.0</td>\n      <td>0.0</td>\n      <td>1.0</td>\n      <td>0.0</td>\n    </tr>\n  </tbody>\n</table>\n</div>"
     },
     "metadata": {},
     "execution_count": 17
    }
   ],
   "source": [
    "df.head()"
   ]
  },
  {
   "cell_type": "markdown",
   "metadata": {},
   "source": [
    "### Data type change"
   ]
  },
  {
   "cell_type": "code",
   "execution_count": 18,
   "metadata": {},
   "outputs": [],
   "source": [
    "#float: \n",
    "for i in ['liczba_pasów_w_zdarzeniu','liczba_rannych_w_zdarzeniu','liczba_zabitych_w_zdarzeniu','liczba_kolizji',\t'liczba_wypadków']:\n",
    "    df[i.lower().replace(' ','_')] = df[i].astype(float)\n",
    "    del df[i]"
   ]
  },
  {
   "cell_type": "code",
   "execution_count": 19,
   "metadata": {},
   "outputs": [],
   "source": [
    "#string\n",
    "for i in df.select_dtypes(include=[np.object]).columns:\n",
    "    df[i.lower().replace(' ','_')] = df[i].apply(lambda x: simplify_cell(x))\n",
    "    del df[i]"
   ]
  },
  {
   "cell_type": "code",
   "execution_count": 20,
   "metadata": {},
   "outputs": [],
   "source": [
    "#time\n",
    "df['data'] =  pd.to_datetime( df['data_zdarzenia'] + ' ' + df['godzina'], format='%Y-%m-%d %H:%M:%S.%f')\n",
    "del df['data_zdarzenia']\n",
    "del df['godzina']"
   ]
  },
  {
   "cell_type": "code",
   "execution_count": 21,
   "metadata": {},
   "outputs": [
    {
     "output_type": "execute_result",
     "data": {
      "text/plain": "            gps_x      gps_y       miejscowość           ulica numer_domu  \\\n10963   19.202222  50.293250         sosnowiec  szymanowskiego         -1   \n102225  19.248278  50.317639  dąbrowa górnicza       katowicka         -1   \n175309  18.551028  50.255917       sośnicowice       smolnicka         -1   \n\n       numer_drogi km_hm_(pikietaż)                obszar     skrzyżowanie  \\\n10963       p7624s               -1     obszar zabudowany  z drogą pierwsz   \n102225        k94b              286  obszar niezabudowany               -1   \n175309      p2916s               -1     obszar zabudowany  z drogą pierwsz   \n\n       geometria_drogi charakterystyka_miejsca_zdarzenia      oświetlenie  \\\n10963               -1                           jezdnia  światło dzienne   \n102225  odcinek prosty                           jezdnia  światło dzienne   \n175309              -1                           jezdnia  światło dzienne   \n\n              warunki_atmosferyczne           rodzaj_zdarzenia  \\\n10963   dobre warunki atmosferyczne  zderzenie pojazdów boczne   \n102225      pochmurno opady deszczu   zderzenie pojazdów tylne   \n175309  dobre warunki atmosferyczne  zderzenie pojazdów boczne   \n\n                      wina                  rodzaj_drogi nawierzchnia_drogi  \\\n10963   z winy kierującego  dwie jezdnie jednokierunkowe             twarda   \n102225  z winy kierującego  dwie jezdnie jednokierunkowe             twarda   \n175309  z winy kierującego  jednojezdniowa dwukierunkowa             twarda   \n\n       stan_nawierzchni sygnalizacja_świetlna oznakowanie_poziome  \\\n10963             sucha                  brak              nie ma   \n102225            mokra                  brak                jest   \n175309            mokra                  brak              nie ma   \n\n                             zachowanie_kierującego zachowanie_pieszego  \\\n10963         nieudzielenie pierwszeństwa przejazdu                  -1   \n102225  niedostosowanie prędkości do warunków ruchu                  -1   \n175309        nieustąpienie pierwszeństwa przejazdu                  -1   \n\n       inne_przyczyny                data  \n10963              -1 2016-03-25 16:45:00  \n102225             -1 2017-11-13 13:35:00  \n175309             -1 2019-02-06 11:00:00  ",
      "text/html": "<div>\n<style scoped>\n    .dataframe tbody tr th:only-of-type {\n        vertical-align: middle;\n    }\n\n    .dataframe tbody tr th {\n        vertical-align: top;\n    }\n\n    .dataframe thead th {\n        text-align: right;\n    }\n</style>\n<table border=\"1\" class=\"dataframe\">\n  <thead>\n    <tr style=\"text-align: right;\">\n      <th></th>\n      <th>gps_x</th>\n      <th>gps_y</th>\n      <th>miejscowość</th>\n      <th>ulica</th>\n      <th>numer_domu</th>\n      <th>numer_drogi</th>\n      <th>km_hm_(pikietaż)</th>\n      <th>obszar</th>\n      <th>skrzyżowanie</th>\n      <th>geometria_drogi</th>\n      <th>charakterystyka_miejsca_zdarzenia</th>\n      <th>oświetlenie</th>\n      <th>warunki_atmosferyczne</th>\n      <th>rodzaj_zdarzenia</th>\n      <th>wina</th>\n      <th>rodzaj_drogi</th>\n      <th>nawierzchnia_drogi</th>\n      <th>stan_nawierzchni</th>\n      <th>sygnalizacja_świetlna</th>\n      <th>oznakowanie_poziome</th>\n      <th>zachowanie_kierującego</th>\n      <th>zachowanie_pieszego</th>\n      <th>inne_przyczyny</th>\n      <th>data</th>\n    </tr>\n  </thead>\n  <tbody>\n    <tr>\n      <td>10963</td>\n      <td>19.202222</td>\n      <td>50.293250</td>\n      <td>sosnowiec</td>\n      <td>szymanowskiego</td>\n      <td>-1</td>\n      <td>p7624s</td>\n      <td>-1</td>\n      <td>obszar zabudowany</td>\n      <td>z drogą pierwsz</td>\n      <td>-1</td>\n      <td>jezdnia</td>\n      <td>światło dzienne</td>\n      <td>dobre warunki atmosferyczne</td>\n      <td>zderzenie pojazdów boczne</td>\n      <td>z winy kierującego</td>\n      <td>dwie jezdnie jednokierunkowe</td>\n      <td>twarda</td>\n      <td>sucha</td>\n      <td>brak</td>\n      <td>nie ma</td>\n      <td>nieudzielenie pierwszeństwa przejazdu</td>\n      <td>-1</td>\n      <td>-1</td>\n      <td>2016-03-25 16:45:00</td>\n    </tr>\n    <tr>\n      <td>102225</td>\n      <td>19.248278</td>\n      <td>50.317639</td>\n      <td>dąbrowa górnicza</td>\n      <td>katowicka</td>\n      <td>-1</td>\n      <td>k94b</td>\n      <td>286</td>\n      <td>obszar niezabudowany</td>\n      <td>-1</td>\n      <td>odcinek prosty</td>\n      <td>jezdnia</td>\n      <td>światło dzienne</td>\n      <td>pochmurno opady deszczu</td>\n      <td>zderzenie pojazdów tylne</td>\n      <td>z winy kierującego</td>\n      <td>dwie jezdnie jednokierunkowe</td>\n      <td>twarda</td>\n      <td>mokra</td>\n      <td>brak</td>\n      <td>jest</td>\n      <td>niedostosowanie prędkości do warunków ruchu</td>\n      <td>-1</td>\n      <td>-1</td>\n      <td>2017-11-13 13:35:00</td>\n    </tr>\n    <tr>\n      <td>175309</td>\n      <td>18.551028</td>\n      <td>50.255917</td>\n      <td>sośnicowice</td>\n      <td>smolnicka</td>\n      <td>-1</td>\n      <td>p2916s</td>\n      <td>-1</td>\n      <td>obszar zabudowany</td>\n      <td>z drogą pierwsz</td>\n      <td>-1</td>\n      <td>jezdnia</td>\n      <td>światło dzienne</td>\n      <td>dobre warunki atmosferyczne</td>\n      <td>zderzenie pojazdów boczne</td>\n      <td>z winy kierującego</td>\n      <td>jednojezdniowa dwukierunkowa</td>\n      <td>twarda</td>\n      <td>mokra</td>\n      <td>brak</td>\n      <td>nie ma</td>\n      <td>nieustąpienie pierwszeństwa przejazdu</td>\n      <td>-1</td>\n      <td>-1</td>\n      <td>2019-02-06 11:00:00</td>\n    </tr>\n  </tbody>\n</table>\n</div>"
     },
     "metadata": {},
     "execution_count": 21
    }
   ],
   "source": [
    "df.sample(3)"
   ]
  },
  {
   "cell_type": "code",
   "execution_count": 21,
   "metadata": {},
   "outputs": [],
   "source": [
    "#KM HM (pikietaż)\n",
    "df['km_hm_pikietaż'] = df['km_hm_(pikietaż)'].str.replace(',','.', regex=True).astype(float)\n",
    "del df['km_hm_(pikietaż)']"
   ]
  },
  {
   "cell_type": "markdown",
   "metadata": {},
   "source": [
    "### Analysis of individual columns"
   ]
  },
  {
   "cell_type": "code",
   "execution_count": 22,
   "metadata": {
    "tags": []
   },
   "outputs": [
    {
     "output_type": "stream",
     "name": "stdout",
     "text": "miejscowość\n['gliwice' 'dąbrowa górnicza' 'tarnowskie góry' ... 'nowa rybna' 'borowce'\n 'zberezka']\n----------------\nulica\n['toszecka' 'sienkiewicza' 'ks ignacego siwca' ...\n 'władysława żeleńskiego' 'jana demarczyka' 'mędralowa']\n----------------\nnumer_domu\n['-1' '4a' '6' ... '4286' '167e' '1n']\n----------------\nnumer_drogi\n['901' 'g200 030s' 'gminna' ... 'g520313s' 'g380018s' 'g611078s']\n----------------\nkm_hm_(pikietaż)\n['616' '-1' '224' ... '3555' '1356' '2459']\n----------------\nobszar\n['obszar niezabudowany' 'obszar zabudowany' '-1']\n----------------\nskrzyżowanie\n['-1' 'z drogą pierwsz' 'o ruchu okrężnym' 'równorzędne']\n----------------\ngeometria_drogi\n['odcinek prosty' '-1' 'zakręt łuk' 'spadek' 'wzniesienie'\n 'wierzchołek wzn' 'zakręt łuk spadek' 'odcinek prosty spadek'\n 'zakręt łuk wzniesienie' 'odcinek prosty wzniesienie'\n 'zakręt łuk wierzchołek wzn' 'odcinek prosty wierzchołek wzn'\n 'odcinek prosty zakręt łuk']\n----------------\ncharakterystyka_miejsca_zdarzenia\n['jezdnia' 'chodnik droga dla pieszych' 'parking plac'\n 'wjazd wyjazd z posesji pola' 'parking plac mop' 'skarpa rów' 'pobocze'\n 'przejście dla pieszych' 'most wiadukt łącznica tunel'\n 'pas dzielący jezdnie' 'przejazd kolejowy strzeżony'\n 'przejazd tramwajowy torowisko' 'przystanek komunikacji publicznej'\n 'droga dla rowerzystów' 'przejazd kolejowy niestrzeżony'\n 'roboty drogowe oznakowanie tymczasowe'\n 'droga pas ruchu śluza dla rowerów' 'przejazd dla rowerzystów'\n 'przewiązka na drodze dwujezdniowej'\n 'przejazd tramwajowy torowisko tramwajowe' '-1']\n----------------\noświetlenie\n['noc - droga nieoświetlona' 'noc - droga oświetlona' 'światło dzienne'\n 'zmrok świt' 'świt zmrok']\n----------------\nwarunki_atmosferyczne\n['dobre warunki atmosferyczne' 'pochmurno' 'mgła dym' 'oślepiające słońce'\n 'opady śniegu gradu' 'pochmurno opady śniegu gradu' 'opady deszczu'\n 'opady deszczu śniegu gradu' 'pochmurno opady deszczu'\n 'pochmurno mgła dym' 'pochmurno opady deszczu mgła dym'\n 'opady deszczu mgła dym' 'pochmurno opady deszczu śniegu gradu'\n 'silny wiatr pochmurno opady śniegu gradu'\n 'pochmurno opady śniegu gradu mgła dym' 'opady śniegu gradu mgła dym'\n 'silny wiatr' 'silny wiatr opady deszczu' 'silny wiatr pochmurno'\n 'silny wiatr opady śniegu gradu' 'oślepiające słońce silny wiatr'\n 'silny wiatr pochmurno opady deszczu' 'oślepiające słońce opady deszczu'\n '-1' 'silny wiatr opady deszczu śniegu gradu'\n 'silny wiatr pochmurno opady deszczu śniegu gradu'\n 'opady deszczu śniegu gradu mgła dym']\n----------------\nrodzaj_zdarzenia\n['najechanie na zwierzę' 'najechanie na pojazd unieruchomiony'\n 'zderzenie pojazdów tylne' 'najechanie na słup znak'\n 'zderzenie pojazdów boczne' 'najechanie na barierę ochronną' 'inne'\n 'najechanie na dziurę wybój garb' 'najechanie na pieszego'\n 'wywrócenie się pojazdu' 'zderzenie pojazdów czołowe'\n 'najechanie na drzewo' 'najechanie na zapore kolejową'\n 'zdarzenie z pasażerem']\n----------------\nwina\n['z innych przyczyn' 'z winy kierującego' 'współwina uczestników ruchu'\n 'z winy pieszego']\n----------------\nrodzaj_drogi\n['jednojezdniowa dwukierunkowa' 'jednokierunkowa' 'autostrada'\n 'dwie jezdnie jednokierunkowe' 'ekspresowa' '-1']\n----------------\nnawierzchnia_drogi\n['twarda' 'gruntowa' '-1']\n----------------\nstan_nawierzchni\n['sucha' 'mokra' 'oblodzona zaśnieżona' 'mokra oblodzona zaśnieżona'\n 'koleiny garby' 'zanieczyszczona' 'mokra koleiny garby'\n 'oblodzona zaśnieżona dziury wyboje' 'mokra dziury wyboje'\n 'kałuże rozlewiska' 'kałuże rozlewiska oblodzona zaśnieżona'\n 'mokra kałuże rozlewiska' 'zanieczyszczona dziury wyboje' 'dziury wyboje'\n 'mokra kałuże rozlewiska dziury wyboje' 'sucha dziury wyboje'\n 'sucha zanieczyszczona' 'mokra kałuże rozlewiska koleiny garby'\n 'mokra zanieczyszczona'\n 'mokra zanieczyszczona koleiny garby dziury wyboje'\n 'mokra kałuże rozlewiska oblodzona zaśnieżona'\n 'mokra koleiny garby dziury wyboje' 'kałuże rozlewiska dziury wyboje'\n 'oblodzona zaśnieżona zanieczyszczona koleiny garby dziury wyboje'\n 'zanieczyszczona koleiny garby dziury wyboje'\n 'mokra kałuże rozlewiska zanieczyszczona koleiny garby dziury wyboje'\n 'kałuże rozlewiska zanieczyszczona dziury wyboje' 'sucha koleiny garby'\n 'sucha koleiny garby dziury wyboje' '-1' 'oblodzenie zaśnieżenie'\n 'sucha zanieczyszczona dziury wyboje'\n 'kałuże rozlewiska koleiny garby dziury wyboje'\n 'mokra kałuże rozlewiska koleiny garby dziury wyboje'\n 'mokra oblodzenie zaśnieżenie'\n 'mokra kałuże rozlewiska oblodzenie zaśnieżenie'\n 'kałuże rozlewiska oblodzenie zaśnieżenie'\n 'oblodzenie zaśnieżenie zanieczyszczona' 'koleiny garby dziury wyboje'\n 'oblodzenie zaśnieżenie koleiny garby'\n 'oblodzenie zaśnieżenie dziury wyboje' 'kałuże rozlewiska koleiny garby'\n 'zanieczyszczona koleiny garby'\n 'sucha zanieczyszczona koleiny garby dziury wyboje'\n 'mokra kałuże rozlewiska zanieczyszczona'\n 'mokra kałuże rozlewiska zanieczyszczona dziury wyboje'\n 'mokra oblodzenie zaśnieżenie dziury wyboje'\n 'mokra zanieczyszczona koleiny garby'\n 'mokra zanieczyszczona dziury wyboje'\n 'kałuże rozlewiska oblodzenie zaśnieżenie dziury wyboje'\n 'mokra oblodzenie zaśnieżenie zanieczyszczona koleiny garby dziury wyboje'\n 'kałuże rozlewiska zanieczyszczona koleiny garby dziury wyboje']\n----------------\nsygnalizacja_świetlna\n['brak' 'jest nie działa' 'jest działa']\n----------------\noznakowanie_poziome\n['jest' 'nie ma' '-1']\n----------------\nzachowanie_kierującego\n['-1' 'nieprawidłowe: cofanie' 'nieprawidłowe: omijanie'\n 'niedostosowanie prędkości do warunków ruchu'\n 'nieudzielenie pierwszeństwa przejazdu' 'inne przyczyny'\n 'niezachowanie bezp odl między pojazdami' 'nieprawidłowe: skręcanie'\n 'nieprawidłowe: zmienianie pasa ruchu' 'zmęczenie zaśnięcie'\n 'nieprawidłowe: wymijanie' 'nieprzestrzeganie innych sygnałów'\n 'niestosowanie się do sygnalizacji świetlnej'\n 'nieustąpienie pierwszeństwa pieszemu na przejściu dla pieszych'\n 'gwałtowne hamowanie' 'nieprawidłowe: wyprzedzanie'\n 'nieprawidłowe: zatrzymywanie postój' 'nieprawidłowe: zawracanie'\n 'nieustąpienie pierwszeństwa pieszemu w innych okolicznościach'\n 'nieustąpienie pierwszeństwa pieszemu przy skręcaniu w drogę poprzeczną'\n 'gwałtowne hamowanie niezachowanie bezp odl między pojazdami'\n 'omijanie pojazdu przed przejściem dla pieszych'\n 'nieprawidłowe: cofanie zatrzymywanie postój'\n 'nieprawidłowe: skręcanie wyprzedzanie'\n 'nieudzielenie pierwszeństwa przejazdu niezachowanie bezp odl między pojazdami'\n 'nieprawidłowe: zmienianie pasa ruchu nieudzielenie pierwszeństwa przejazdu'\n 'wyprzedzanie pojazdu przed przejściem dla pieszych'\n 'nieprawidłowe: zawracanie zmienianie pasa ruchu'\n 'jazda bez wymaganego oświetlenia'\n 'inne przyczyny nieudzielenie pierwszeństwa przejazdu'\n 'nieprawidłowe przejeżdżanie przejazdu dla rowerzystów'\n 'nieprawidłowe: wyprzedzanie zmienianie pasa ruchu'\n 'nieprawidłowe: wyprzedzanie nieudzielenie pierwszeństwa przejazdu'\n 'nieprawidłowe: skręcanie nieudzielenie pierwszeństwa przejazdu'\n 'nieprawidłowe: wymijanie niezachowanie bezp odl między pojazdami'\n 'inne przyczyny niezachowanie bezp odl między pojazdami'\n 'nieprawidłowe: omijanie zatrzymywanie postój'\n 'inne przyczyny niedostosowanie prędkości do warunków ruchu'\n 'nieudzielenie pierwszeństwa przejazdu wyprzedzanie pojazdu przed przejściem dla pieszych'\n 'nieprawidłowe: skręcanie zatrzymywanie postój'\n 'nieprawidłowe: cofanie wyprzedzanie'\n 'nieprawidłowe: cofanie nieudzielenie pierwszeństwa przejazdu'\n 'inne przyczyny nieprawidłowe: skręcanie'\n 'nieprawidłowe: wyprzedzanie niezachowanie bezp odl między pojazdami'\n 'jazda bez wymaganego oświetlenia nieprawidłowe: wyprzedzanie'\n 'nieprawidłowe: zawracanie niezachowanie bezp odl między pojazdami'\n 'nieprzestrzeganie innych sygnałów nieudzielenie pierwszeństwa przejazdu'\n 'inne przyczyny omijanie pojazdu przed przejściem dla pieszych'\n 'nieprawidłowe wymijanie' 'niezachowanie bezp odleg między pojazdami'\n 'nieprawidłowe skręcanie' 'nieustąpienie pierwszeństwa przejazdu'\n 'nieprawidłowe cofanie' 'nieprawidłowe zmienianie pasa ruchu'\n 'nieprzestrzeganie znaków i innych sygnałów' 'nieprawidłowe wyprzedzanie'\n 'nieprawidłowe omijanie' 'nieprawidłowe zawracanie'\n 'nieprawidłowe skręcanie wyprzedzanie'\n 'nieprawidłowe zatrzymywanie postój'\n 'nieprawidłowe zmienianie pasa ruchu nieustąpienie pierwszeństwa przejazdu'\n 'inne przyczyny nieustąpienie pierwszeństwa przejazdu'\n 'nieprawidłowe skręcanie nieustąpienie pierwszeństwa przejazdu'\n 'nieprawidłowe cofanie omijanie' 'inne przyczyny nieprawidłowe skręcanie'\n 'gwałtowne hamowanie nieprawidłowe zmienianie pasa ruchu'\n 'inne przyczyny nieprawidłowe omijanie'\n 'gwałtowne hamowanie niezachowanie bezp odleg między pojazdami'\n 'gwałtowne hamowanie nieustąpienie pierwszeństwa przejazdu'\n 'inne przyczyny nieprawidłowe cofanie'\n 'nieprawidłowe omijanie zatrzymywanie postój'\n 'nieprawidłowe omijanie skręcanie' 'nieprawidłowe cofanie skręcanie'\n 'nieprawidłowe wyprzedzanie zmienianie pasa ruchu'\n 'nieprawidłowe omijanie zmienianie pasa ruchu'\n 'nieprawidłowe wyprzedzanie nieustąpienie pierwszeństwa przejazdu'\n 'nieprawidłowe omijanie nieustąpienie pierwszeństwa przejazdu'\n 'jazda bez wymaganych świateł'\n 'nieprawidłowe zmienianie pasa ruchu nieprzestrzeganie znaków i innych sygnałów'\n 'nieustąpienie pierwszeństwa pieszemu na przejściu dla pieszych niezachowanie bezp odleg między pojazdami'\n 'niedostosowanie prędkości do warunków ruchu nieprawidłowe zawracanie'\n 'nieprzestrzeganie znaków i innych sygnałów nieustąpienie pierwszeństwa przejazdu'\n 'nieprawidłowe cofanie niezachowanie bezp odleg między pojazdami'\n 'nieprawidłowe zawracanie niezachowanie bezp odleg między pojazdami'\n 'nieprawidłowe zawracanie wyprzedzanie'\n 'nieprawidłowe skręcanie niezachowanie bezp odleg między pojazdami'\n 'inne przyczyny nieprzestrzeganie znaków i innych sygnałów'\n 'nieprawidłowe cofanie nieustąpienie pierwszeństwa przejazdu'\n 'nieprawidłowe zmienianie pasa ruchu niezachowanie bezp odleg między pojazdami'\n 'niedostosowanie prędkości do warunków ruchu nieustąpienie pierwszeństwa przejazdu'\n 'inne przyczyny niezachowanie bezp odleg między pojazdami'\n 'inne przyczyny nieprawidłowe wymijanie'\n 'niedostosowanie prędkości do warunków ruchu nieprawidłowe cofanie'\n 'niestosowanie się do sygnalizacji świetlnej nieustąpienie pierwszeństwa przejazdu'\n 'nieprawidłowe zawracanie cofanie'\n 'nieprawidłowe zatrzymywanie postój niezachowanie bezp odleg między pojazdami'\n 'nieprawidłowe wyprzedzanie niezachowanie bezp odleg między pojazdami'\n 'inne przyczyny nieprawidłowe wyprzedzanie'\n 'gwałtowne hamowanie nieprawidłowe wyprzedzanie'\n 'niedostosowanie prędkości do warunków ruchu nieprzestrzeganie znaków i innych sygnałów'\n 'niedostosowanie prędkości do warunków ruchu niezachowanie bezp odleg między pojazdami'\n 'inne przyczyny nieprawidłowe zmienianie pasa ruchu'\n 'jazda bez wymaganych świateł nieustąpienie pierwszeństwa przejazdu'\n 'nieprawidłowe omijanie wyprzedzanie'\n 'niedostosowanie prędkości do warunków ruchu nieprawidłowe zmienianie pasa'\n 'nieustąpienie pierwszeństwa pieszemu na przejściu dla pieszych wyprzedzanie pojazdu przed przejściem'\n 'nieprawidłowe cofanie zatrzymywanie postój'\n 'niedostosowanie prędkości do warunków ruchu nieprawidłowe wyprzedzanie'\n 'niedostosowanie prędkości do warunków ruchu nieprawidłowe wymijanie'\n 'nieprawidłowe cofanie nieprzestrzeganie znaków i innych sygnałów'\n 'nieprawidłowe omijanie wymijanie'\n 'inne przyczyny nieprawidłowe zawracanie'\n 'nieprawidłowe skręcanie nieprzestrzeganie znaków i innych sygnałów'\n 'nieustąpienie pierwszeństwa przejazdu niezachowanie bezp odleg między pojazdami'\n 'niedostosowanie prędkości do warunków ruchu nieprawidłowe skręcanie'\n 'nieustąpienie pierwszeństwa przejazdu omijanie pojazdu przed przejściem dla pieszych'\n 'nieprawidłowe skręcanie zatrzymywanie postój'\n 'nieprawidłowe omijanie nieprzestrzeganie znaków i innych sygnałów'\n 'nieprawidłowe wymijanie nieustąpienie pierwszeństwa przejazdu'\n 'jazda bez wymaganych świateł nieprawidłowe wyprzedzanie'\n 'nieprawidłowe cofanie wymijanie'\n 'nieprawidłowe wyprzedzanie nieprzestrzeganie znaków i innych sygnałów'\n 'inne przyczyny niestosowanie się do sygnalizacji świetlnej'\n 'jazda bez wymaganych świateł niedostosowanie prędkości do warunków ruchu']\n----------------\nzachowanie_pieszego\n['-1' 'wejście na jezdnię przy czerwonym świetle'\n 'przekraczanie jezdni w miejscu niedozwolonym'\n 'nieostrożne wejście na jezdnię: przed jadącym pojazdem' 'inne przyczyny'\n 'nieostrożne wejście na jezdnię: zza pojazdu przeszkody'\n 'chodzenie nieprawidłową stroną drogi' 'stanie na jezdni leżenie'\n 'zatrzymanie cofnięcie się'\n 'leżenie siedzenie klęczenie stanie na jezdni']\n----------------\ninne_przyczyny\n['obiekty zwierzęta na drodze' '-1' 'nieustalone'\n 'niewłaściwy stan jezdni' 'inne' 'utrata przytomności śmierć kierującego'\n 'pożar pojazdu' 'nieprawidłowo zabezp roboty drogowe'\n 'niesprawność techniczna pojazdu' 'z winy pasażera'\n 'oślepienie przez inny pojazd lub słońce'\n 'nieprawidłowo działająca zapora rogatka' 'stan jezdni'\n 'zabezpieczenie robót na drodze' 'organizacja ruchu'\n 'nieprawidłowo działająca zapora kolej'\n 'działanie sygnalizacji świetlnej']\n----------------\n"
    }
   ],
   "source": [
    "for i in df.select_dtypes(include=[np.object]).columns:\n",
    "    print(i)\n",
    "    print(df[i].unique())\n",
    "    print('----------------')"
   ]
  },
  {
   "cell_type": "code",
   "execution_count": 23,
   "metadata": {},
   "outputs": [
    {
     "data": {
      "text/plain": [
       "array(['-1'], dtype=object)"
      ]
     },
     "execution_count": 23,
     "metadata": {},
     "output_type": "execute_result"
    }
   ],
   "source": [
    "df[df['skrzyżowanie']!= '-1']['geometria_drogi'].unique()\n",
    "# you can combine the junction columns with the road geometry"
   ]
  },
  {
   "cell_type": "code",
   "execution_count": 24,
   "metadata": {},
   "outputs": [],
   "source": [
    "df['geometria_drogi'] = df['geometria_drogi'].apply(lambda x: word_or_word (x,'odcinek prosty','zakręt łuk'))"
   ]
  },
  {
   "cell_type": "code",
   "execution_count": 25,
   "metadata": {},
   "outputs": [],
   "source": [
    "df['typ_drogi'] = df.apply(lambda row: row['skrzyżowanie'] if row['geometria_drogi'] == '-1' else row[\"geometria_drogi\"], axis=1)\n",
    "del df['skrzyżowanie']\n",
    "del df['geometria_drogi']"
   ]
  },
  {
   "cell_type": "code",
   "execution_count": 26,
   "metadata": {},
   "outputs": [
    {
     "name": "stdout",
     "output_type": "stream",
     "text": [
      "odcinek prosty      0.624014\n",
      "z drogą pierwsz     0.240270\n",
      "zakręt łuk          0.074845\n",
      "o ruchu okrężnym    0.027274\n",
      "-1                  0.026491\n",
      "równorzędne         0.007107\n",
      "Name: typ_drogi, dtype: float64\n",
      "wartości unikalne:\n",
      "[odcinek prosty z drogą pierwsz zakręt łuk o ruchu okrężnym równorzędne -1]\n"
     ]
    }
   ],
   "source": [
    "study_column('typ_drogi')"
   ]
  },
  {
   "cell_type": "code",
   "execution_count": 27,
   "metadata": {},
   "outputs": [],
   "source": [
    "pd.DatetimeIndex(df[df['oświetlenie'] == 'świt zmrok']['data']).hour.unique()\n",
    "pd.DatetimeIndex(df[df['oświetlenie'] == 'zmrok świt']['data']).hour.unique()\n",
    "# it doesn't matter\n",
    "\n",
    "df['oświetlenie'] = df['oświetlenie'].apply(lambda x: 'świt zmrok' if (x == 'świt zmrok' or x == 'zmrok świt' ) else x )"
   ]
  },
  {
   "cell_type": "code",
   "execution_count": 28,
   "metadata": {},
   "outputs": [
    {
     "name": "stdout",
     "output_type": "stream",
     "text": [
      "dobre warunki atmosferyczne                         0.631347\n",
      "pochmurno                                           0.189258\n",
      "opady deszczu                                       0.103280\n",
      "opady śniegu gradu                                  0.027565\n",
      "pochmurno opady deszczu                             0.022198\n",
      "oślepiające słońce                                  0.012386\n",
      "mgła dym                                            0.004493\n",
      "pochmurno opady śniegu gradu                        0.003223\n",
      "silny wiatr                                         0.002322\n",
      "silny wiatr opady deszczu                           0.000861\n",
      "silny wiatr pochmurno                               0.000687\n",
      "opady deszczu śniegu gradu                          0.000687\n",
      "pochmurno mgła dym                                  0.000526\n",
      "pochmurno opady deszczu śniegu gradu                0.000317\n",
      "silny wiatr pochmurno opady deszczu                 0.000317\n",
      "silny wiatr opady śniegu gradu                      0.000183\n",
      "opady deszczu mgła dym                              0.000126\n",
      "silny wiatr pochmurno opady śniegu gradu            0.000083\n",
      "pochmurno opady deszczu mgła dym                    0.000048\n",
      "opady śniegu gradu mgła dym                         0.000022\n",
      "silny wiatr opady deszczu śniegu gradu              0.000022\n",
      "oślepiające słońce silny wiatr                      0.000017\n",
      "pochmurno opady śniegu gradu mgła dym               0.000009\n",
      "silny wiatr pochmurno opady deszczu śniegu gradu    0.000009\n",
      "oślepiające słońce opady deszczu                    0.000004\n",
      "opady deszczu śniegu gradu mgła dym                 0.000004\n",
      "-1                                                  0.000004\n",
      "Name: warunki_atmosferyczne, dtype: float64\n",
      "wartości unikalne:\n",
      "[dobre warunki atmosferyczne pochmurno mgła dym oślepiające słońce opady śniegu gradu deszczu silny wiatr -1 dym]\n"
     ]
    }
   ],
   "source": [
    "study_column('warunki_atmosferyczne')"
   ]
  },
  {
   "cell_type": "code",
   "execution_count": 29,
   "metadata": {},
   "outputs": [],
   "source": [
    "make_one_word('warunki_atmosferyczne','dobre warunki atmosferyczne')\n",
    "make_one_word('warunki_atmosferyczne','mgła dym')\n",
    "make_one_word('warunki_atmosferyczne','oślepiające słońce')\n",
    "make_one_word('warunki_atmosferyczne','silny wiatr')"
   ]
  },
  {
   "cell_type": "code",
   "execution_count": 30,
   "metadata": {},
   "outputs": [],
   "source": [
    "for i in ['dobre_warunki_atmosferyczne','pochmurno', 'mgła_dym', 'oślepiające_słońce','śniegu','gradu', 'deszczu', 'silny_wiatr']:\n",
    "    df[i] = df['warunki_atmosferyczne'].apply(lambda x: 1 if i in str(x) else 0)"
   ]
  },
  {
   "cell_type": "code",
   "execution_count": 31,
   "metadata": {},
   "outputs": [
    {
     "name": "stdout",
     "output_type": "stream",
     "text": [
      "sucha                                                                       0.675696\n",
      "mokra                                                                       0.271840\n",
      "oblodzenie zaśnieżenie                                                      0.034002\n",
      "oblodzona zaśnieżona                                                        0.004501\n",
      "kałuże rozlewiska                                                           0.002488\n",
      "sucha dziury wyboje                                                         0.002162\n",
      "mokra oblodzenie zaśnieżenie                                                0.001953\n",
      "mokra kałuże rozlewiska                                                     0.001796\n",
      "dziury wyboje                                                               0.001257\n",
      "zanieczyszczona                                                             0.000987\n",
      "mokra dziury wyboje                                                         0.000918\n",
      "sucha koleiny garby                                                         0.000309\n",
      "koleiny garby                                                               0.000304\n",
      "sucha zanieczyszczona                                                       0.000252\n",
      "mokra oblodzona zaśnieżona                                                  0.000244\n",
      "mokra zanieczyszczona                                                       0.000204\n",
      "mokra kałuże rozlewiska dziury wyboje                                       0.000191\n",
      "mokra koleiny garby                                                         0.000157\n",
      "sucha koleiny garby dziury wyboje                                           0.000109\n",
      "kałuże rozlewiska dziury wyboje                                             0.000100\n",
      "oblodzenie zaśnieżenie dziury wyboje                                        0.000078\n",
      "mokra kałuże rozlewiska koleiny garby                                       0.000065\n",
      "mokra kałuże rozlewiska oblodzenie zaśnieżenie                              0.000043\n",
      "mokra koleiny garby dziury wyboje                                           0.000043\n",
      "koleiny garby dziury wyboje                                                 0.000039\n",
      "zanieczyszczona dziury wyboje                                               0.000030\n",
      "oblodzenie zaśnieżenie zanieczyszczona                                      0.000022\n",
      "mokra kałuże rozlewiska koleiny garby dziury wyboje                         0.000017\n",
      "mokra oblodzenie zaśnieżenie dziury wyboje                                  0.000017\n",
      "oblodzenie zaśnieżenie koleiny garby                                        0.000017\n",
      "mokra zanieczyszczona koleiny garby dziury wyboje                           0.000017\n",
      "kałuże rozlewiska oblodzenie zaśnieżenie                                    0.000013\n",
      "sucha zanieczyszczona koleiny garby dziury wyboje                           0.000013\n",
      "mokra kałuże rozlewiska oblodzona zaśnieżona                                0.000013\n",
      "kałuże rozlewiska koleiny garby dziury wyboje                               0.000009\n",
      "sucha zanieczyszczona dziury wyboje                                         0.000009\n",
      "mokra kałuże rozlewiska zanieczyszczona                                     0.000009\n",
      "mokra kałuże rozlewiska zanieczyszczona koleiny garby dziury wyboje         0.000009\n",
      "mokra zanieczyszczona dziury wyboje                                         0.000009\n",
      "-1                                                                          0.000004\n",
      "kałuże rozlewiska zanieczyszczona dziury wyboje                             0.000004\n",
      "zanieczyszczona koleiny garby dziury wyboje                                 0.000004\n",
      "kałuże rozlewiska oblodzenie zaśnieżenie dziury wyboje                      0.000004\n",
      "mokra kałuże rozlewiska zanieczyszczona dziury wyboje                       0.000004\n",
      "zanieczyszczona koleiny garby                                               0.000004\n",
      "mokra zanieczyszczona koleiny garby                                         0.000004\n",
      "oblodzona zaśnieżona dziury wyboje                                          0.000004\n",
      "oblodzona zaśnieżona zanieczyszczona koleiny garby dziury wyboje            0.000004\n",
      "kałuże rozlewiska koleiny garby                                             0.000004\n",
      "kałuże rozlewiska zanieczyszczona koleiny garby dziury wyboje               0.000004\n",
      "kałuże rozlewiska oblodzona zaśnieżona                                      0.000004\n",
      "mokra oblodzenie zaśnieżenie zanieczyszczona koleiny garby dziury wyboje    0.000004\n",
      "Name: stan_nawierzchni, dtype: float64\n",
      "wartości unikalne:\n",
      "[sucha mokra oblodzona zaśnieżona koleiny garby zanieczyszczona dziury wyboje kałuże rozlewiska sucha -1 oblodzenie zaśnieżenie wyboje]\n"
     ]
    }
   ],
   "source": [
    "study_column('stan_nawierzchni')"
   ]
  },
  {
   "cell_type": "code",
   "execution_count": 32,
   "metadata": {},
   "outputs": [],
   "source": [
    "df['stan_nawierzchni'] = df['stan_nawierzchni'].apply(lambda x: 'zaśnieżona' if ('zaśnieżona' in str(x) or 'zaśnieżenie' in str(x) ) else x)\n",
    "df['stan_nawierzchni'] = df['stan_nawierzchni'].apply(lambda x: 'koleiny' if ('koleiny' in str(x) or 'garby' in str(x) or 'dziury' is str(x) or 'kałuże' in str(x) or 'wyboje' in str(x)) else x)\n",
    "df['stan_nawierzchni'] = df['stan_nawierzchni'].apply(lambda x: 'zanieczyszczona' if 'zanieczyszczona' in str(x) else x)                                             \n",
    "                                                                               "
   ]
  },
  {
   "cell_type": "code",
   "execution_count": 33,
   "metadata": {
    "scrolled": true
   },
   "outputs": [
    {
     "name": "stdout",
     "output_type": "stream",
     "text": [
      "-1                                         0.886039\n",
      "obiekty zwierzęta na drodze                0.050463\n",
      "nieustalone                                0.025556\n",
      "stan jezdni                                0.020998\n",
      "inne                                       0.008742\n",
      "niewłaściwy stan jezdni                    0.002227\n",
      "niesprawność techniczna pojazdu            0.001483\n",
      "zabezpieczenie robót na drodze             0.001374\n",
      "utrata przytomności śmierć kierującego     0.001157\n",
      "z winy pasażera                            0.000948\n",
      "pożar pojazdu                              0.000509\n",
      "oślepienie przez inny pojazd lub słońce    0.000309\n",
      "organizacja ruchu                          0.000083\n",
      "nieprawidłowo zabezp roboty drogowe        0.000078\n",
      "nieprawidłowo działająca zapora kolej      0.000022\n",
      "nieprawidłowo działająca zapora rogatka    0.000009\n",
      "działanie sygnalizacji świetlnej           0.000004\n",
      "Name: inne_przyczyny, dtype: float64\n",
      "wartości unikalne:\n",
      "[obiekty zwierzęta na drodze -1 nieustalone niewłaściwy stan jezdni inne utrata przytomności śmierć kierującego pożar pojazdu nieprawidłowo zabezp roboty drogowe niesprawność techniczna z winy pasażera oślepienie przez inny pojazd lub słońce działająca zapora rogatka zabezpieczenie robót organizacja ruchu kolej działanie sygnalizacji świetlnej]\n"
     ]
    }
   ],
   "source": [
    "study_column('inne_przyczyny')"
   ]
  },
  {
   "cell_type": "code",
   "execution_count": 34,
   "metadata": {},
   "outputs": [],
   "source": [
    "df['inne_przyczyny'] = df['inne_przyczyny'].apply(lambda x: '-1' if (x == 'nieustalone' or x == 'inne' ) else x )"
   ]
  },
  {
   "cell_type": "code",
   "execution_count": 35,
   "metadata": {},
   "outputs": [
    {
     "data": {
      "text/html": [
       "<div>\n",
       "<style scoped>\n",
       "    .dataframe tbody tr th:only-of-type {\n",
       "        vertical-align: middle;\n",
       "    }\n",
       "\n",
       "    .dataframe tbody tr th {\n",
       "        vertical-align: top;\n",
       "    }\n",
       "\n",
       "    .dataframe thead th {\n",
       "        text-align: right;\n",
       "    }\n",
       "</style>\n",
       "<table border=\"1\" class=\"dataframe\">\n",
       "  <thead>\n",
       "    <tr style=\"text-align: right;\">\n",
       "      <th></th>\n",
       "      <th>wina</th>\n",
       "      <th>zachowanie_kierującego</th>\n",
       "      <th>zachowanie_pieszego</th>\n",
       "      <th>inne_przyczyny</th>\n",
       "    </tr>\n",
       "  </thead>\n",
       "  <tbody>\n",
       "    <tr>\n",
       "      <td>0</td>\n",
       "      <td>z innych przyczyn</td>\n",
       "      <td>-1</td>\n",
       "      <td>-1</td>\n",
       "      <td>obiekty zwierzęta na drodze</td>\n",
       "    </tr>\n",
       "    <tr>\n",
       "      <td>4</td>\n",
       "      <td>z innych przyczyn</td>\n",
       "      <td>-1</td>\n",
       "      <td>-1</td>\n",
       "      <td>obiekty zwierzęta na drodze</td>\n",
       "    </tr>\n",
       "    <tr>\n",
       "      <td>20</td>\n",
       "      <td>z innych przyczyn</td>\n",
       "      <td>-1</td>\n",
       "      <td>-1</td>\n",
       "      <td>niewłaściwy stan jezdni</td>\n",
       "    </tr>\n",
       "    <tr>\n",
       "      <td>22</td>\n",
       "      <td>z innych przyczyn</td>\n",
       "      <td>-1</td>\n",
       "      <td>-1</td>\n",
       "      <td>obiekty zwierzęta na drodze</td>\n",
       "    </tr>\n",
       "    <tr>\n",
       "      <td>23</td>\n",
       "      <td>z innych przyczyn</td>\n",
       "      <td>-1</td>\n",
       "      <td>-1</td>\n",
       "      <td>obiekty zwierzęta na drodze</td>\n",
       "    </tr>\n",
       "    <tr>\n",
       "      <td>...</td>\n",
       "      <td>...</td>\n",
       "      <td>...</td>\n",
       "      <td>...</td>\n",
       "      <td>...</td>\n",
       "    </tr>\n",
       "    <tr>\n",
       "      <td>229889</td>\n",
       "      <td>z innych przyczyn</td>\n",
       "      <td>-1</td>\n",
       "      <td>-1</td>\n",
       "      <td>stan jezdni</td>\n",
       "    </tr>\n",
       "    <tr>\n",
       "      <td>229891</td>\n",
       "      <td>z innych przyczyn</td>\n",
       "      <td>-1</td>\n",
       "      <td>-1</td>\n",
       "      <td>obiekty zwierzęta na drodze</td>\n",
       "    </tr>\n",
       "    <tr>\n",
       "      <td>229899</td>\n",
       "      <td>z innych przyczyn</td>\n",
       "      <td>-1</td>\n",
       "      <td>-1</td>\n",
       "      <td>stan jezdni</td>\n",
       "    </tr>\n",
       "    <tr>\n",
       "      <td>229900</td>\n",
       "      <td>z innych przyczyn</td>\n",
       "      <td>-1</td>\n",
       "      <td>-1</td>\n",
       "      <td>stan jezdni</td>\n",
       "    </tr>\n",
       "    <tr>\n",
       "      <td>229901</td>\n",
       "      <td>z innych przyczyn</td>\n",
       "      <td>-1</td>\n",
       "      <td>-1</td>\n",
       "      <td>stan jezdni</td>\n",
       "    </tr>\n",
       "  </tbody>\n",
       "</table>\n",
       "<p>18317 rows × 4 columns</p>\n",
       "</div>"
      ],
      "text/plain": [
       "                     wina zachowanie_kierującego zachowanie_pieszego  \\\n",
       "0       z innych przyczyn                     -1                  -1   \n",
       "4       z innych przyczyn                     -1                  -1   \n",
       "20      z innych przyczyn                     -1                  -1   \n",
       "22      z innych przyczyn                     -1                  -1   \n",
       "23      z innych przyczyn                     -1                  -1   \n",
       "...                   ...                    ...                 ...   \n",
       "229889  z innych przyczyn                     -1                  -1   \n",
       "229891  z innych przyczyn                     -1                  -1   \n",
       "229899  z innych przyczyn                     -1                  -1   \n",
       "229900  z innych przyczyn                     -1                  -1   \n",
       "229901  z innych przyczyn                     -1                  -1   \n",
       "\n",
       "                     inne_przyczyny  \n",
       "0       obiekty zwierzęta na drodze  \n",
       "4       obiekty zwierzęta na drodze  \n",
       "20          niewłaściwy stan jezdni  \n",
       "22      obiekty zwierzęta na drodze  \n",
       "23      obiekty zwierzęta na drodze  \n",
       "...                             ...  \n",
       "229889                  stan jezdni  \n",
       "229891  obiekty zwierzęta na drodze  \n",
       "229899                  stan jezdni  \n",
       "229900                  stan jezdni  \n",
       "229901                  stan jezdni  \n",
       "\n",
       "[18317 rows x 4 columns]"
      ]
     },
     "execution_count": 35,
     "metadata": {},
     "output_type": "execute_result"
    }
   ],
   "source": [
    "df[df['inne_przyczyny'] != '-1'][['wina','zachowanie_kierującego','zachowanie_pieszego','inne_przyczyny']]"
   ]
  },
  {
   "cell_type": "code",
   "execution_count": 36,
   "metadata": {},
   "outputs": [
    {
     "data": {
      "text/plain": [
       "array(['-1', 'obiekty zwierzęta na drodze', 'organizacja ruchu',\n",
       "       'zabezpieczenie robót na drodze', 'stan jezdni'], dtype=object)"
      ]
     },
     "execution_count": 36,
     "metadata": {},
     "output_type": "execute_result"
    }
   ],
   "source": [
    "df[df['zachowanie_pieszego']=='inne przyczyny']['inne_przyczyny'].unique() "
   ]
  },
  {
   "cell_type": "code",
   "execution_count": 37,
   "metadata": {},
   "outputs": [
    {
     "data": {
      "text/plain": [
       "array(['-1', 'niewłaściwy stan jezdni', 'niesprawność techniczna pojazdu',\n",
       "       'obiekty zwierzęta na drodze', 'z winy pasażera', 'pożar pojazdu',\n",
       "       'stan jezdni', 'zabezpieczenie robót na drodze',\n",
       "       'utrata przytomności śmierć kierującego',\n",
       "       'oślepienie przez inny pojazd lub słońce'], dtype=object)"
      ]
     },
     "execution_count": 37,
     "metadata": {},
     "output_type": "execute_result"
    }
   ],
   "source": [
    "df[df['zachowanie_kierującego']=='inne przyczyny']['inne_przyczyny'].unique() "
   ]
  },
  {
   "cell_type": "code",
   "execution_count": 38,
   "metadata": {},
   "outputs": [
    {
     "data": {
      "text/plain": [
       "array(['obiekty zwierzęta na drodze', 'niewłaściwy stan jezdni', '-1',\n",
       "       'utrata przytomności śmierć kierującego', 'pożar pojazdu',\n",
       "       'nieprawidłowo zabezp roboty drogowe',\n",
       "       'niesprawność techniczna pojazdu', 'z winy pasażera',\n",
       "       'oślepienie przez inny pojazd lub słońce',\n",
       "       'nieprawidłowo działająca zapora rogatka', 'stan jezdni',\n",
       "       'zabezpieczenie robót na drodze', 'organizacja ruchu',\n",
       "       'nieprawidłowo działająca zapora kolej',\n",
       "       'działanie sygnalizacji świetlnej'], dtype=object)"
      ]
     },
     "execution_count": 38,
     "metadata": {},
     "output_type": "execute_result"
    }
   ],
   "source": [
    "df[df['wina']=='z innych przyczyn']['inne_przyczyny'].unique() #here it fits best"
   ]
  },
  {
   "cell_type": "code",
   "execution_count": 39,
   "metadata": {},
   "outputs": [],
   "source": [
    "df['wina'] = df.apply(lambda x: x['inne_przyczyny'] if (x['inne_przyczyny'] != '-1') else x['wina'], axis=1)\n",
    "del df['inne_przyczyny']"
   ]
  },
  {
   "cell_type": "code",
   "execution_count": 40,
   "metadata": {},
   "outputs": [
    {
     "name": "stdout",
     "output_type": "stream",
     "text": [
      "z winy kierującego                         0.863149\n",
      "obiekty zwierzęta na drodze                0.050463\n",
      "z innych przyczyn                          0.032601\n",
      "stan jezdni                                0.020998\n",
      "współwina uczestników ruchu                0.014357\n",
      "z winy pieszego                            0.010229\n",
      "niewłaściwy stan jezdni                    0.002227\n",
      "niesprawność techniczna pojazdu            0.001483\n",
      "zabezpieczenie robót na drodze             0.001374\n",
      "utrata przytomności śmierć kierującego     0.001157\n",
      "z winy pasażera                            0.000948\n",
      "pożar pojazdu                              0.000509\n",
      "oślepienie przez inny pojazd lub słońce    0.000309\n",
      "organizacja ruchu                          0.000083\n",
      "nieprawidłowo zabezp roboty drogowe        0.000078\n",
      "nieprawidłowo działająca zapora kolej      0.000022\n",
      "nieprawidłowo działająca zapora rogatka    0.000009\n",
      "działanie sygnalizacji świetlnej           0.000004\n",
      "Name: wina, dtype: float64\n",
      "wartości unikalne:\n",
      "[obiekty zwierzęta na drodze z winy kierującego współwina uczestników ruchu niewłaściwy stan jezdni pieszego innych przyczyn utrata przytomności śmierć pożar pojazdu nieprawidłowo zabezp roboty drogowe niesprawność techniczna pasażera oślepienie przez inny pojazd lub słońce działająca zapora rogatka zabezpieczenie robót organizacja kolej działanie sygnalizacji świetlnej]\n"
     ]
    }
   ],
   "source": [
    "study_column('wina')"
   ]
  },
  {
   "cell_type": "code",
   "execution_count": 93,
   "metadata": {},
   "outputs": [
    {
     "name": "stdout",
     "output_type": "stream",
     "text": [
      "niezachowanie bezp odleg między pojazdami                                                                   0.186279\n",
      "nieustąpienie pierwszeństwa przejazdu                                                                       0.149672\n",
      "-1                                                                                                          0.121346\n",
      "niedostosowanie prędkości do warunków ruchu                                                                 0.100879\n",
      "nieprawidłowe cofanie                                                                                       0.093338\n",
      "                                                                                                              ...   \n",
      "nieprawidłowe: skręcanie zatrzymywanie postój                                                               0.000004\n",
      "nieudzielenie pierwszeństwa przejazdu wyprzedzanie pojazdu przed przejściem dla pieszych                    0.000004\n",
      "nieustąpienie pierwszeństwa pieszemu na przejściu dla pieszych niezachowanie bezp odleg między pojazdami    0.000004\n",
      "inne przyczyny niestosowanie się do sygnalizacji świetlnej                                                  0.000004\n",
      "nieprawidłowe zawracanie cofanie                                                                            0.000004\n",
      "Name: zachowanie_kierującego, Length: 124, dtype: float64\n",
      "wartości unikalne:\n",
      "[-1 nieprawidłowe: cofanie omijanie niedostosowanie prędkości do warunków ruchu nieudzielenie pierwszeństwa przejazdu inne przyczyny niezachowanie bezp odl między pojazdami skręcanie zmienianie pasa zmęczenie zaśnięcie wymijanie nieprzestrzeganie innych sygnałów niestosowanie się sygnalizacji świetlnej nieustąpienie pieszemu na przejściu dla pieszych gwałtowne hamowanie wyprzedzanie zatrzymywanie postój zawracanie w okolicznościach przy skręcaniu drogę poprzeczną pojazdu przed przejściem jazda bez wymaganego oświetlenia nieprawidłowe przejeżdżanie rowerzystów odleg znaków i wymaganych świateł ruchu]\n"
     ]
    }
   ],
   "source": [
    "# TODO: \n",
    "study_column('zachowanie_kierującego')"
   ]
  },
  {
   "cell_type": "code",
   "execution_count": 94,
   "metadata": {},
   "outputs": [
    {
     "data": {
      "text/plain": [
       "124"
      ]
     },
     "execution_count": 94,
     "metadata": {},
     "output_type": "execute_result"
    }
   ],
   "source": [
    "len(df['zachowanie_kierującego'].unique())"
   ]
  },
  {
   "cell_type": "code",
   "execution_count": 95,
   "metadata": {},
   "outputs": [],
   "source": [
    "df['zachowanie_kierującego'] = df['zachowanie_kierującego'].apply(lambda x: x.replace('nieprawidłowe ','')  ) \n",
    "df['zachowanie_kierującego'] = df['zachowanie_kierującego'].apply(lambda x: x.replace('nieprawidłowe:','')  )"
   ]
  },
  {
   "cell_type": "markdown",
   "metadata": {},
   "source": [
    "### Sprawdzenie GPS "
   ]
  },
  {
   "cell_type": "code",
   "execution_count": 41,
   "metadata": {},
   "outputs": [
    {
     "name": "stdout",
     "output_type": "stream",
     "text": [
      "User Guide: https://docs.kepler.gl/docs/keplergl-jupyter\n"
     ]
    }
   ],
   "source": [
    "from keplergl import KeplerGl \n",
    "map_1 = KeplerGl(height=500)\n",
    "map_1.add_data(data=df, name='data')"
   ]
  },
  {
   "cell_type": "code",
   "execution_count": 42,
   "metadata": {},
   "outputs": [
    {
     "data": {
      "application/vnd.jupyter.widget-view+json": {
       "model_id": "00e591733f1d45b7a66251e9892119f4",
       "version_major": 2,
       "version_minor": 0
      },
      "text/plain": [
       "KeplerGl(data={'data': {'index': [0, 1, 2, 3, 4, 5, 6, 7, 8, 9, 10, 11, 12, 13, 14, 15, 16, 17, 18, 19, 20, 21…"
      ]
     },
     "metadata": {},
     "output_type": "display_data"
    }
   ],
   "source": [
    "map_1"
   ]
  },
  {
   "cell_type": "markdown",
   "metadata": {},
   "source": [
    "### save_data"
   ]
  },
  {
   "cell_type": "code",
   "execution_count": 43,
   "metadata": {},
   "outputs": [
    {
     "data": {
      "text/html": [
       "<div>\n",
       "<style scoped>\n",
       "    .dataframe tbody tr th:only-of-type {\n",
       "        vertical-align: middle;\n",
       "    }\n",
       "\n",
       "    .dataframe tbody tr th {\n",
       "        vertical-align: top;\n",
       "    }\n",
       "\n",
       "    .dataframe thead th {\n",
       "        text-align: right;\n",
       "    }\n",
       "</style>\n",
       "<table border=\"1\" class=\"dataframe\">\n",
       "  <thead>\n",
       "    <tr style=\"text-align: right;\">\n",
       "      <th></th>\n",
       "      <th>gps_x</th>\n",
       "      <th>gps_y</th>\n",
       "      <th>liczba_pasów_w_zdarzeniu</th>\n",
       "      <th>liczba_rannych_w_zdarzeniu</th>\n",
       "      <th>liczba_zabitych_w_zdarzeniu</th>\n",
       "      <th>liczba_kolizji</th>\n",
       "      <th>liczba_wypadków</th>\n",
       "      <th>miejscowość</th>\n",
       "      <th>ulica</th>\n",
       "      <th>numer_domu</th>\n",
       "      <th>numer_drogi</th>\n",
       "      <th>obszar</th>\n",
       "      <th>charakterystyka_miejsca_zdarzenia</th>\n",
       "      <th>oświetlenie</th>\n",
       "      <th>warunki_atmosferyczne</th>\n",
       "      <th>rodzaj_zdarzenia</th>\n",
       "      <th>wina</th>\n",
       "      <th>rodzaj_drogi</th>\n",
       "      <th>nawierzchnia_drogi</th>\n",
       "      <th>stan_nawierzchni</th>\n",
       "      <th>sygnalizacja_świetlna</th>\n",
       "      <th>oznakowanie_poziome</th>\n",
       "      <th>zachowanie_kierującego</th>\n",
       "      <th>zachowanie_pieszego</th>\n",
       "      <th>data</th>\n",
       "      <th>km_hm_pikietaż</th>\n",
       "      <th>typ_drogi</th>\n",
       "      <th>dobre_warunki_atmosferyczne</th>\n",
       "      <th>pochmurno</th>\n",
       "      <th>mgła_dym</th>\n",
       "      <th>oślepiające_słońce</th>\n",
       "      <th>śniegu</th>\n",
       "      <th>gradu</th>\n",
       "      <th>deszczu</th>\n",
       "      <th>silny_wiatr</th>\n",
       "    </tr>\n",
       "  </thead>\n",
       "  <tbody>\n",
       "    <tr>\n",
       "      <td>116226</td>\n",
       "      <td>18.931889</td>\n",
       "      <td>50.196222</td>\n",
       "      <td>5.0</td>\n",
       "      <td>0.0</td>\n",
       "      <td>0.0</td>\n",
       "      <td>1.0</td>\n",
       "      <td>0.0</td>\n",
       "      <td>katowice</td>\n",
       "      <td>tadeusza kościuszki</td>\n",
       "      <td>-1</td>\n",
       "      <td>81</td>\n",
       "      <td>obszar niezabudowany</td>\n",
       "      <td>jezdnia</td>\n",
       "      <td>światło dzienne</td>\n",
       "      <td>dobre_warunki_atmosferyczne</td>\n",
       "      <td>zderzenie pojazdów boczne</td>\n",
       "      <td>z winy kierującego</td>\n",
       "      <td>dwie jezdnie jednokierunkowe</td>\n",
       "      <td>twarda</td>\n",
       "      <td>sucha</td>\n",
       "      <td>jest działa</td>\n",
       "      <td>jest</td>\n",
       "      <td>nieustąpienie pierwszeństwa przejazdu</td>\n",
       "      <td>-1</td>\n",
       "      <td>2018-02-06 16:30:00</td>\n",
       "      <td>-1.0</td>\n",
       "      <td>z drogą pierwsz</td>\n",
       "      <td>1</td>\n",
       "      <td>0</td>\n",
       "      <td>0</td>\n",
       "      <td>0</td>\n",
       "      <td>0</td>\n",
       "      <td>0</td>\n",
       "      <td>0</td>\n",
       "      <td>0</td>\n",
       "    </tr>\n",
       "    <tr>\n",
       "      <td>185141</td>\n",
       "      <td>18.654889</td>\n",
       "      <td>50.125333</td>\n",
       "      <td>2.0</td>\n",
       "      <td>0.0</td>\n",
       "      <td>0.0</td>\n",
       "      <td>1.0</td>\n",
       "      <td>0.0</td>\n",
       "      <td>przegędza</td>\n",
       "      <td>mikołowska</td>\n",
       "      <td>-1</td>\n",
       "      <td>w925</td>\n",
       "      <td>obszar zabudowany</td>\n",
       "      <td>jezdnia</td>\n",
       "      <td>światło dzienne</td>\n",
       "      <td>opady deszczu</td>\n",
       "      <td>zderzenie pojazdów boczne</td>\n",
       "      <td>z winy kierującego</td>\n",
       "      <td>jednojezdniowa dwukierunkowa</td>\n",
       "      <td>twarda</td>\n",
       "      <td>mokra</td>\n",
       "      <td>brak</td>\n",
       "      <td>jest</td>\n",
       "      <td>nieustąpienie pierwszeństwa przejazdu</td>\n",
       "      <td>-1</td>\n",
       "      <td>2019-04-12 13:10:00</td>\n",
       "      <td>-1.0</td>\n",
       "      <td>z drogą pierwsz</td>\n",
       "      <td>0</td>\n",
       "      <td>0</td>\n",
       "      <td>0</td>\n",
       "      <td>0</td>\n",
       "      <td>0</td>\n",
       "      <td>0</td>\n",
       "      <td>1</td>\n",
       "      <td>0</td>\n",
       "    </tr>\n",
       "    <tr>\n",
       "      <td>191000</td>\n",
       "      <td>19.024028</td>\n",
       "      <td>50.253056</td>\n",
       "      <td>2.0</td>\n",
       "      <td>0.0</td>\n",
       "      <td>0.0</td>\n",
       "      <td>1.0</td>\n",
       "      <td>0.0</td>\n",
       "      <td>katowice</td>\n",
       "      <td>lompy</td>\n",
       "      <td>-1</td>\n",
       "      <td>g100406s</td>\n",
       "      <td>obszar zabudowany</td>\n",
       "      <td>jezdnia</td>\n",
       "      <td>światło dzienne</td>\n",
       "      <td>dobre_warunki_atmosferyczne</td>\n",
       "      <td>najechanie na pojazd unieruchomiony</td>\n",
       "      <td>z winy kierującego</td>\n",
       "      <td>jednojezdniowa dwukierunkowa</td>\n",
       "      <td>twarda</td>\n",
       "      <td>sucha</td>\n",
       "      <td>brak</td>\n",
       "      <td>jest</td>\n",
       "      <td>nieprawidłowe omijanie</td>\n",
       "      <td>-1</td>\n",
       "      <td>2019-05-17 11:50:00</td>\n",
       "      <td>-1.0</td>\n",
       "      <td>odcinek prosty</td>\n",
       "      <td>1</td>\n",
       "      <td>0</td>\n",
       "      <td>0</td>\n",
       "      <td>0</td>\n",
       "      <td>0</td>\n",
       "      <td>0</td>\n",
       "      <td>0</td>\n",
       "      <td>0</td>\n",
       "    </tr>\n",
       "  </tbody>\n",
       "</table>\n",
       "</div>"
      ],
      "text/plain": [
       "            gps_x      gps_y  liczba_pasów_w_zdarzeniu  \\\n",
       "116226  18.931889  50.196222                       5.0   \n",
       "185141  18.654889  50.125333                       2.0   \n",
       "191000  19.024028  50.253056                       2.0   \n",
       "\n",
       "        liczba_rannych_w_zdarzeniu  liczba_zabitych_w_zdarzeniu  \\\n",
       "116226                         0.0                          0.0   \n",
       "185141                         0.0                          0.0   \n",
       "191000                         0.0                          0.0   \n",
       "\n",
       "        liczba_kolizji  liczba_wypadków miejscowość                ulica  \\\n",
       "116226             1.0              0.0    katowice  tadeusza kościuszki   \n",
       "185141             1.0              0.0   przegędza           mikołowska   \n",
       "191000             1.0              0.0    katowice                lompy   \n",
       "\n",
       "       numer_domu numer_drogi                obszar  \\\n",
       "116226         -1          81  obszar niezabudowany   \n",
       "185141         -1        w925     obszar zabudowany   \n",
       "191000         -1    g100406s     obszar zabudowany   \n",
       "\n",
       "       charakterystyka_miejsca_zdarzenia      oświetlenie  \\\n",
       "116226                           jezdnia  światło dzienne   \n",
       "185141                           jezdnia  światło dzienne   \n",
       "191000                           jezdnia  światło dzienne   \n",
       "\n",
       "              warunki_atmosferyczne                     rodzaj_zdarzenia  \\\n",
       "116226  dobre_warunki_atmosferyczne            zderzenie pojazdów boczne   \n",
       "185141                opady deszczu            zderzenie pojazdów boczne   \n",
       "191000  dobre_warunki_atmosferyczne  najechanie na pojazd unieruchomiony   \n",
       "\n",
       "                      wina                  rodzaj_drogi nawierzchnia_drogi  \\\n",
       "116226  z winy kierującego  dwie jezdnie jednokierunkowe             twarda   \n",
       "185141  z winy kierującego  jednojezdniowa dwukierunkowa             twarda   \n",
       "191000  z winy kierującego  jednojezdniowa dwukierunkowa             twarda   \n",
       "\n",
       "       stan_nawierzchni sygnalizacja_świetlna oznakowanie_poziome  \\\n",
       "116226            sucha           jest działa                jest   \n",
       "185141            mokra                  brak                jest   \n",
       "191000            sucha                  brak                jest   \n",
       "\n",
       "                       zachowanie_kierującego zachowanie_pieszego  \\\n",
       "116226  nieustąpienie pierwszeństwa przejazdu                  -1   \n",
       "185141  nieustąpienie pierwszeństwa przejazdu                  -1   \n",
       "191000                 nieprawidłowe omijanie                  -1   \n",
       "\n",
       "                      data  km_hm_pikietaż        typ_drogi  \\\n",
       "116226 2018-02-06 16:30:00            -1.0  z drogą pierwsz   \n",
       "185141 2019-04-12 13:10:00            -1.0  z drogą pierwsz   \n",
       "191000 2019-05-17 11:50:00            -1.0   odcinek prosty   \n",
       "\n",
       "        dobre_warunki_atmosferyczne  pochmurno  mgła_dym  oślepiające_słońce  \\\n",
       "116226                            1          0         0                   0   \n",
       "185141                            0          0         0                   0   \n",
       "191000                            1          0         0                   0   \n",
       "\n",
       "        śniegu  gradu  deszczu  silny_wiatr  \n",
       "116226       0      0        0            0  \n",
       "185141       0      0        1            0  \n",
       "191000       0      0        0            0  "
      ]
     },
     "execution_count": 43,
     "metadata": {},
     "output_type": "execute_result"
    }
   ],
   "source": [
    "df.sample(3)"
   ]
  },
  {
   "cell_type": "code",
   "execution_count": 44,
   "metadata": {},
   "outputs": [],
   "source": [
    "df.to_csv('df_modified.csv')"
   ]
  }
 ],
 "metadata": {
  "kernelspec": {
   "display_name": "Python 3",
   "language": "python",
   "name": "python3"
  },
  "language_info": {
   "codemirror_mode": {
    "name": "ipython",
    "version": 3
   },
   "file_extension": ".py",
   "mimetype": "text/x-python",
   "name": "python",
   "nbconvert_exporter": "python",
   "pygments_lexer": "ipython3",
   "version": "3.7.4"
  }
 },
 "nbformat": 4,
 "nbformat_minor": 2
}