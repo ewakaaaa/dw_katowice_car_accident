{
 "metadata": {
  "language_info": {
   "codemirror_mode": {
    "name": "ipython",
    "version": 3
   },
   "file_extension": ".py",
   "mimetype": "text/x-python",
   "name": "python",
   "nbconvert_exporter": "python",
   "pygments_lexer": "ipython3",
   "version": 3
  },
  "orig_nbformat": 2,
  "kernelspec": {
   "name": "python_defaultSpec_1596386779878",
   "display_name": "Python 3.7.4 64-bit ('base': conda)"
  }
 },
 "nbformat": 4,
 "nbformat_minor": 2,
 "cells": [
  {
   "cell_type": "markdown",
   "metadata": {},
   "source": []
  },
  {
   "cell_type": "code",
   "execution_count": 352,
   "metadata": {},
   "outputs": [],
   "source": [
    "import pandas as pd\n",
    "import numpy as np\n",
    "import matplotlib.pyplot as plt\n",
    "plt.style.use('ggplot')\n",
    "import folium\n",
    "import geopandas as gpd"
   ]
  },
  {
   "cell_type": "code",
   "execution_count": 374,
   "metadata": {},
   "outputs": [],
   "source": [
    "stations = pd.read_csv('data/marcin_data.csv') #SELECT name, lat,lon from bigquery-public-data.noaa_gsod.stations where  country = 'PL'\n",
    "data = pd.read_csv('data/df_modified.csv')\n",
    "woj = gpd.read_file('data/PRG_jednostki_administracyjne/WojewĘdztwa.shp')"
   ]
  },
  {
   "cell_type": "code",
   "execution_count": 354,
   "metadata": {},
   "outputs": [],
   "source": [
    "woj_slaskie = woj[woj['JPT_KOD_JE']=='24']"
   ]
  },
  {
   "cell_type": "code",
   "execution_count": 355,
   "metadata": {},
   "outputs": [
    {
     "output_type": "execute_result",
     "data": {
      "text/plain": "  JPT_SJR_KO JPT_KOD_JE JPT_NAZWA_ JPT_ORGAN_  JPT_JOR_ID   WERSJA_OD  \\\n0        WOJ         24  ÅlÄ\nskie       None           0  2017-10-10   \n\n  WERSJA_DO    WAZNY_OD WAZNY_DO JPT_KOD__1  ... JPT_KJ_I_1 JPT_KJ_I_2  \\\n0      None  2012-09-26     None       None  ...         24       None   \n\n  JPT_OPIS  JPT_SPS_KO  ID_BUFOR_1   JPT_ID JPT_KJ_I_3 Shape_Leng Shape_Area  \\\n0     None         UZG           0  1331323       None  12.136952   1.557335   \n\n                                            geometry  \n0  MULTIPOLYGON (((18.91685 51.09608, 18.91677 51...  \n\n[1 rows x 30 columns]",
      "text/html": "<div>\n<style scoped>\n    .dataframe tbody tr th:only-of-type {\n        vertical-align: middle;\n    }\n\n    .dataframe tbody tr th {\n        vertical-align: top;\n    }\n\n    .dataframe thead th {\n        text-align: right;\n    }\n</style>\n<table border=\"1\" class=\"dataframe\">\n  <thead>\n    <tr style=\"text-align: right;\">\n      <th></th>\n      <th>JPT_SJR_KO</th>\n      <th>JPT_KOD_JE</th>\n      <th>JPT_NAZWA_</th>\n      <th>JPT_ORGAN_</th>\n      <th>JPT_JOR_ID</th>\n      <th>WERSJA_OD</th>\n      <th>WERSJA_DO</th>\n      <th>WAZNY_OD</th>\n      <th>WAZNY_DO</th>\n      <th>JPT_KOD__1</th>\n      <th>...</th>\n      <th>JPT_KJ_I_1</th>\n      <th>JPT_KJ_I_2</th>\n      <th>JPT_OPIS</th>\n      <th>JPT_SPS_KO</th>\n      <th>ID_BUFOR_1</th>\n      <th>JPT_ID</th>\n      <th>JPT_KJ_I_3</th>\n      <th>Shape_Leng</th>\n      <th>Shape_Area</th>\n      <th>geometry</th>\n    </tr>\n  </thead>\n  <tbody>\n    <tr>\n      <td>0</td>\n      <td>WOJ</td>\n      <td>24</td>\n      <td>ÅlÄskie</td>\n      <td>None</td>\n      <td>0</td>\n      <td>2017-10-10</td>\n      <td>None</td>\n      <td>2012-09-26</td>\n      <td>None</td>\n      <td>None</td>\n      <td>...</td>\n      <td>24</td>\n      <td>None</td>\n      <td>None</td>\n      <td>UZG</td>\n      <td>0</td>\n      <td>1331323</td>\n      <td>None</td>\n      <td>12.136952</td>\n      <td>1.557335</td>\n      <td>MULTIPOLYGON (((18.91685 51.09608, 18.91677 51...</td>\n    </tr>\n  </tbody>\n</table>\n<p>1 rows × 30 columns</p>\n</div>"
     },
     "metadata": {},
     "execution_count": 355
    }
   ],
   "source": [
    "woj_slaskie"
   ]
  },
  {
   "cell_type": "code",
   "execution_count": 356,
   "metadata": {},
   "outputs": [],
   "source": [
    "woj_slaskie = woj_slaskie[['JPT_KOD_JE', \"geometry\"]]\n",
    "woj_slaskie.geometry = woj_slaskie.geometry.simplify(0.005) \n",
    "woj_geoPath = woj_slaskie.to_json()"
   ]
  },
  {
   "cell_type": "code",
   "execution_count": 357,
   "metadata": {
    "tags": []
   },
   "outputs": [],
   "source": [
    "unique = weather.groupby(['name','lat','lon']).sum().reset_index()[['name','lat','lon']]"
   ]
  },
  {
   "cell_type": "code",
   "execution_count": 358,
   "metadata": {
    "tags": []
   },
   "outputs": [],
   "source": [
    "m = folium.Map(location=[49.793,19.057],zoom_start=7.5) \n",
    "folium.Choropleth(geo_data=woj_geoPath, fill_color='YlGn',fill_opacity=0.5,line_opacity=0.2,).add_to(m)\n",
    "for lat, lon, name in zip(unique.lat, unique.lon, unique.name): \n",
    "    folium.CircleMarker([lat,lon],radius=50).add_to(m)\n",
    "    folium.Marker([lat,lon], popup=name).add_to(m)"
   ]
  },
  {
   "cell_type": "code",
   "execution_count": 359,
   "metadata": {},
   "outputs": [],
   "source": [
    "city = ['CIESZYN','BIELSKO-BIALA','OSWIECIM','RACIBORZ','KATOWICE','PYRZOWICE','CZESTOCHOWA','WLOSZCZOWA','STRZELCE OPOLSKIE','OLESNO','WIELUN','KRAKOW']"
   ]
  },
  {
   "cell_type": "code",
   "execution_count": 360,
   "metadata": {},
   "outputs": [],
   "source": [
    "m_choosen_city = folium.Map(location=[49.793,19.057],zoom_start=7.5) \n",
    "folium.Choropleth(geo_data=woj_geoPath, fill_color='YlGn',fill_opacity=0.5,line_opacity=0.2,).add_to(m_choosen_city)\n",
    "for lat, lon, name in zip(unique.lat, unique.lon, unique.name): \n",
    "    if name in city: \n",
    "        folium.CircleMarker([lat,lon],radius=120).add_to(m_choosen_city)\n",
    "        folium.Marker([lat,lon], popup=name).add_to(m_choosen_city)\n"
   ]
  },
  {
   "cell_type": "code",
   "execution_count": 361,
   "metadata": {
    "tags": []
   },
   "outputs": [],
   "source": [
    "string ='('\n",
    "for i in city: \n",
    "    string = string + \"name like '%\" + i + \"%' or \" \n",
    "string = string[:-3] + ')'  "
   ]
  },
  {
   "cell_type": "code",
   "execution_count": 362,
   "metadata": {},
   "outputs": [
    {
     "output_type": "execute_result",
     "data": {
      "text/plain": "\"(name like '%CIESZYN%' or name like '%BIELSKO-BIALA%' or name like '%OSWIECIM%' or name like '%RACIBORZ%' or name like '%KATOWICE%' or name like '%PYRZOWICE%' or name like '%CZESTOCHOWA%' or name like '%WLOSZCZOWA%' or name like '%STRZELCE OPOLSKIE%' or name like '%OLESNO%' or name like '%WIELUN%' or name like '%KRAKOW%' )\""
     },
     "metadata": {},
     "execution_count": 362
    }
   ],
   "source": [
    "string"
   ]
  },
  {
   "cell_type": "code",
   "execution_count": 258,
   "metadata": {
    "tags": []
   },
   "outputs": [
    {
     "output_type": "stream",
     "name": "stderr",
     "text": "Downloading: 100%|██████████| 13/13 [00:01<00:00, 12.66rows/s]\n"
    }
   ],
   "source": [
    "PROJECT = 'dwkatowice'   # CHANGE this to your GCP project\n",
    "REGION  = 'region' # CHANGE this to your region\n",
    "def query_to_dataframe(query):\n",
    "  return pd.read_gbq(query, dialect='standard', project_id=PROJECT)\n",
    "\n",
    "# Let's find out id of weather station in Katowice\n",
    "df_city = query_to_dataframe(\"\"\"\n",
    "SELECT * FROM `bigquery-public-data.noaa_gsod.stations`\n",
    "WHERE country = 'PL' AND (name like '%CIESZYN%' or name like '%BIELSKO-BIALA%' or name like '%OSWIECIM%' or name like '%RACIBORZ%' or name like '%KATOWICE%' or name like '%PYRZOWICE%' or name like '%CZESTOCHOWA%' or name like '%WLOSZCZOWA%' or name like '%STRZELCE OPOLSKIE%' or name like '%OLESNO%' or name like '%WIELUN%' or name like '%KRAKOW%' )\n",
    "\"\"\")\n"
   ]
  },
  {
   "cell_type": "code",
   "execution_count": 271,
   "metadata": {},
   "outputs": [],
   "source": [
    "stn = \"','\".join(df_city['usaf'].values)\n",
    "stn = \"'\" + stn + \"'\""
   ]
  },
  {
   "cell_type": "code",
   "execution_count": 275,
   "metadata": {},
   "outputs": [
    {
     "output_type": "execute_result",
     "data": {
      "text/plain": "\"'125240','125280','125550','125560','125650','125690','125990','126650','124550','125400','125500','125600','126000'\""
     },
     "metadata": {},
     "execution_count": 275
    }
   ],
   "source": [
    "stn"
   ]
  },
  {
   "cell_type": "code",
   "execution_count": 363,
   "metadata": {
    "tags": []
   },
   "outputs": [],
   "source": [
    "# And now we can build a query to get weather data\n",
    "def wxquery(year):\n",
    "  return \"\"\"\n",
    "SELECT stn,concat('{0}','-',mo,'-',da) as date, temp,  visib as visibility, wdsp wind_speed, mxpsd as max_wind_speed, gust as max_gust, max as max_temp, min as min_temp, prcp as rain_or_snow, sndp as snow, fog, rain_drizzle, snow_ice_pellets, hail, thunder \n",
    "FROM `bigquery-public-data.noaa_gsod.gsod*`\n",
    "where stn in ('125240', '125280', '125550', '125560', '125650', '125690',\n",
    "       '125990', '126650', '124550', '125400', '125500', '125600',\n",
    "       '126000') AND _TABLE_SUFFIX = '{0}'\n",
    "\"\"\".format(year)"
   ]
  },
  {
   "cell_type": "code",
   "execution_count": 306,
   "metadata": {
    "tags": []
   },
   "outputs": [
    {
     "output_type": "stream",
     "name": "stderr",
     "text": "Downloading: 100%|██████████| 1866/1866 [00:01<00:00, 1244.30rows/s]\nDownloading: 100%|██████████| 1815/1815 [00:01<00:00, 1131.32rows/s]\nDownloading: 100%|██████████| 1784/1784 [00:01<00:00, 1195.26rows/s]\nDownloading: 100%|██████████| 1825/1825 [00:01<00:00, 1263.78rows/s]\n"
    }
   ],
   "source": [
    "df = pd.DataFrame()\n",
    "for year in ('2016','2017','2018','2019'):\n",
    "    weather = query_to_dataframe(wxquery(year))\n",
    "    weather_all = pd.concat([weather_all, weather], ignore_index=True)"
   ]
  },
  {
   "cell_type": "code",
   "execution_count": 324,
   "metadata": {
    "tags": []
   },
   "outputs": [
    {
     "output_type": "stream",
     "name": "stdout",
     "text": "<class 'pandas.core.frame.DataFrame'>\nRangeIndex: 7290 entries, 0 to 7289\nData columns (total 21 columns):\nstn                 7290 non-null object\ndate                7290 non-null object\ntemp                7290 non-null float64\nvisibility          7290 non-null float64\nwind_speed          7290 non-null float32\nmax_wind_speed      7290 non-null object\nmax_gust            7290 non-null float64\nmax_temp            7290 non-null float64\nmin_temp            7290 non-null float64\nrain_or_snow        7290 non-null float64\nsnow                7290 non-null float64\nfog                 7290 non-null object\nrain_drizzle        7290 non-null object\nsnow_ice_pellets    7290 non-null object\nhail                7290 non-null object\nthunder             7290 non-null object\ntemp_c              7290 non-null float64\nmax_temp_c          7290 non-null float64\nmin_temp_c          7290 non-null float64\ndelta_temp_c        7290 non-null float64\nvisib_m             7290 non-null float64\ndtypes: float32(1), float64(12), object(8)\nmemory usage: 1.1+ MB\n"
    }
   ],
   "source": [
    "weather_all.info()\n",
    "#stn - id stacji pogodowej \n",
    "#date - data obcesrwacji \n",
    "#temp - średnia temperatura w fahrenheitach\n",
    "#visibility - średnia widoczność w ciągu dnia w milach\n",
    "#wind_speed - średnia prędkość wiatru w węzłach \n",
    "#max_wind_speed - maksymalna ciągla prędkość wiatru w węzłach \n",
    "#max_gust - maksymalny podmuch wiatru \n",
    "#max_temp - maksymalna temperatura w ciągdu dnia \n",
    "#min_temp - minimalna temperatura w ciągu dnia \n",
    "#rain_or_snow - całkowite opady deszczu lub stopiony śnieg w calach \n",
    "#snow - grubość śniegu w calch \n",
    "#fog - flaga czy była mgła \n",
    "#rain_dreizzle - mżawka \n",
    "#snow_ice_pellets - granulki lodu śnieżnego / deszcz ze śniegiem? \n",
    "#hail - grad \n",
    "#thunder - grzmot / burza \n",
    "#999,9 - brak danych \n"
   ]
  },
  {
   "cell_type": "code",
   "execution_count": 341,
   "metadata": {},
   "outputs": [],
   "source": [
    "weather_all['temp_c'] = weather_all.apply(lambda x: (x['temp']-32)/1.8,axis=1)\n",
    "weather_all['max_temp_c'] = weather_all.apply(lambda x: (x['max_temp']-32)/1.8,axis=1)\n",
    "weather_all['min_temp_c'] = weather_all.apply(lambda x: (x['min_temp']-32)/1.8,axis=1)\n",
    "weather_all['delta_temp_c'] = weather_all.apply(lambda x: x['max_temp_c']-x['min_temp_c'],axis=1)\n",
    "weather_all['visib_m'] = weather_all.apply(lambda x: x['visibility']/0.62137,axis=1)\n",
    "weather_all['wind_speed']= pd.to_numeric(weather_all['wind_speed'], downcast=\"float\")\n",
    "weather_all['wind_speed_km_h'] = weather_all.apply(lambda x: x['wind_speed']*1.852 ,axis=1)\n",
    "weather_all['max_wind_speed']= pd.to_numeric(weather_all['max_wind_speed'], downcast=\"float\")\n",
    "weather_all['max_wind_speed_km_h'] = weather_all.apply(lambda x: x['max_wind_speed']*1.852 ,axis=1)\n",
    "weather_all['max_gust_km_h'] = weather_all.apply(lambda x: x['max_gust']*1.852 ,axis=1)\n",
    "weather_all['rain_od_snow_flag'] = weather_all.apply(lambda x: 1 if x['rain_or_snow'] != 99.99 else 0 ,axis=1)\n",
    "weather_all['snow_flag'] = weather_all.apply(lambda x: 1 if x['snow'] != 999.9 else 0  ,axis=1)\n",
    "weather_all['rain_od_snow_m'] = weather_all.apply(lambda x: x['rain_or_snow']*0.0254 ,axis=1)\n",
    "weather_all['snow_m'] = weather_all.apply(lambda x: x['snow']*0.0254 ,axis=1)"
   ]
  },
  {
   "cell_type": "code",
   "execution_count": 376,
   "metadata": {},
   "outputs": [],
   "source": [
    "def dist(x, lon, y, lat): \n",
    "    dist=sqrt((x-lon)^2 + (y-lat)^2)\n",
    "    return dist"
   ]
  },
  {
   "cell_type": "code",
   "execution_count": null,
   "metadata": {},
   "outputs": [],
   "source": [
    "def distance(x,y): \n",
    "    "
   ]
  },
  {
   "cell_type": "markdown",
   "metadata": {
    "tags": []
   },
   "source": [
    "\n",
    "for c in city:\n",
    "    print(stations[stations['name']== c][['name','lat','lon']])"
   ]
  },
  {
   "cell_type": "code",
   "execution_count": 375,
   "metadata": {},
   "outputs": [
    {
     "output_type": "execute_result",
     "data": {
      "text/plain": "   Unnamed: 0      gps_x      gps_y  liczba_pasów_w_zdarzeniu  \\\n0           0  18.635806  50.369722                       2.0   \n1           1  19.180833  50.323083                      -1.0   \n2           2  18.877639  50.445083                       2.0   \n3           3  18.860583  50.444667                       2.0   \n4           4  19.047556  50.466806                       2.0   \n\n   liczba_rannych_w_zdarzeniu  liczba_zabitych_w_zdarzeniu  liczba_kolizji  \\\n0                         0.0                          0.0             1.0   \n1                         0.0                          0.0             1.0   \n2                         0.0                          0.0             1.0   \n3                         0.0                          0.0             1.0   \n4                         0.0                          0.0             1.0   \n\n   liczba_wypadków       miejscowość                ulica  ... km_hm_pikietaż  \\\n0              0.0           gliwice             toszecka  ...          616.0   \n1              0.0  dąbrowa górnicza         sienkiewicza  ...           -1.0   \n2              0.0   tarnowskie góry    ks ignacego siwca  ...           -1.0   \n3              0.0   tarnowskie góry  józefa piłsudskiego  ...           -1.0   \n4              0.0         ożarowice             dworcowa  ...           -1.0   \n\n         typ_drogi dobre_warunki_atmosferyczne pochmurno mgła_dym  \\\n0   odcinek prosty                           1         0        0   \n1  z drogą pierwsz                           1         0        0   \n2       zakręt łuk                           1         0        0   \n3   odcinek prosty                           0         1        0   \n4   odcinek prosty                           1         0        0   \n\n  oślepiające_słońce śniegu gradu deszczu silny_wiatr  \n0                  0      0     0       0           0  \n1                  0      0     0       0           0  \n2                  0      0     0       0           0  \n3                  0      0     0       0           0  \n4                  0      0     0       0           0  \n\n[5 rows x 36 columns]",
      "text/html": "<div>\n<style scoped>\n    .dataframe tbody tr th:only-of-type {\n        vertical-align: middle;\n    }\n\n    .dataframe tbody tr th {\n        vertical-align: top;\n    }\n\n    .dataframe thead th {\n        text-align: right;\n    }\n</style>\n<table border=\"1\" class=\"dataframe\">\n  <thead>\n    <tr style=\"text-align: right;\">\n      <th></th>\n      <th>Unnamed: 0</th>\n      <th>gps_x</th>\n      <th>gps_y</th>\n      <th>liczba_pasów_w_zdarzeniu</th>\n      <th>liczba_rannych_w_zdarzeniu</th>\n      <th>liczba_zabitych_w_zdarzeniu</th>\n      <th>liczba_kolizji</th>\n      <th>liczba_wypadków</th>\n      <th>miejscowość</th>\n      <th>ulica</th>\n      <th>...</th>\n      <th>km_hm_pikietaż</th>\n      <th>typ_drogi</th>\n      <th>dobre_warunki_atmosferyczne</th>\n      <th>pochmurno</th>\n      <th>mgła_dym</th>\n      <th>oślepiające_słońce</th>\n      <th>śniegu</th>\n      <th>gradu</th>\n      <th>deszczu</th>\n      <th>silny_wiatr</th>\n    </tr>\n  </thead>\n  <tbody>\n    <tr>\n      <td>0</td>\n      <td>0</td>\n      <td>18.635806</td>\n      <td>50.369722</td>\n      <td>2.0</td>\n      <td>0.0</td>\n      <td>0.0</td>\n      <td>1.0</td>\n      <td>0.0</td>\n      <td>gliwice</td>\n      <td>toszecka</td>\n      <td>...</td>\n      <td>616.0</td>\n      <td>odcinek prosty</td>\n      <td>1</td>\n      <td>0</td>\n      <td>0</td>\n      <td>0</td>\n      <td>0</td>\n      <td>0</td>\n      <td>0</td>\n      <td>0</td>\n    </tr>\n    <tr>\n      <td>1</td>\n      <td>1</td>\n      <td>19.180833</td>\n      <td>50.323083</td>\n      <td>-1.0</td>\n      <td>0.0</td>\n      <td>0.0</td>\n      <td>1.0</td>\n      <td>0.0</td>\n      <td>dąbrowa górnicza</td>\n      <td>sienkiewicza</td>\n      <td>...</td>\n      <td>-1.0</td>\n      <td>z drogą pierwsz</td>\n      <td>1</td>\n      <td>0</td>\n      <td>0</td>\n      <td>0</td>\n      <td>0</td>\n      <td>0</td>\n      <td>0</td>\n      <td>0</td>\n    </tr>\n    <tr>\n      <td>2</td>\n      <td>2</td>\n      <td>18.877639</td>\n      <td>50.445083</td>\n      <td>2.0</td>\n      <td>0.0</td>\n      <td>0.0</td>\n      <td>1.0</td>\n      <td>0.0</td>\n      <td>tarnowskie góry</td>\n      <td>ks ignacego siwca</td>\n      <td>...</td>\n      <td>-1.0</td>\n      <td>zakręt łuk</td>\n      <td>1</td>\n      <td>0</td>\n      <td>0</td>\n      <td>0</td>\n      <td>0</td>\n      <td>0</td>\n      <td>0</td>\n      <td>0</td>\n    </tr>\n    <tr>\n      <td>3</td>\n      <td>3</td>\n      <td>18.860583</td>\n      <td>50.444667</td>\n      <td>2.0</td>\n      <td>0.0</td>\n      <td>0.0</td>\n      <td>1.0</td>\n      <td>0.0</td>\n      <td>tarnowskie góry</td>\n      <td>józefa piłsudskiego</td>\n      <td>...</td>\n      <td>-1.0</td>\n      <td>odcinek prosty</td>\n      <td>0</td>\n      <td>1</td>\n      <td>0</td>\n      <td>0</td>\n      <td>0</td>\n      <td>0</td>\n      <td>0</td>\n      <td>0</td>\n    </tr>\n    <tr>\n      <td>4</td>\n      <td>4</td>\n      <td>19.047556</td>\n      <td>50.466806</td>\n      <td>2.0</td>\n      <td>0.0</td>\n      <td>0.0</td>\n      <td>1.0</td>\n      <td>0.0</td>\n      <td>ożarowice</td>\n      <td>dworcowa</td>\n      <td>...</td>\n      <td>-1.0</td>\n      <td>odcinek prosty</td>\n      <td>1</td>\n      <td>0</td>\n      <td>0</td>\n      <td>0</td>\n      <td>0</td>\n      <td>0</td>\n      <td>0</td>\n      <td>0</td>\n    </tr>\n  </tbody>\n</table>\n<p>5 rows × 36 columns</p>\n</div>"
     },
     "metadata": {},
     "execution_count": 375
    }
   ],
   "source": [
    "data.head()"
   ]
  },
  {
   "cell_type": "code",
   "execution_count": null,
   "metadata": {},
   "outputs": [],
   "source": []
  }
 ]
}